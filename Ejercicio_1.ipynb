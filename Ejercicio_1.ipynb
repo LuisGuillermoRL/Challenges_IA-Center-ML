{
  "nbformat": 4,
  "nbformat_minor": 0,
  "metadata": {
    "colab": {
      "provenance": [],
      "include_colab_link": true
    },
    "kernelspec": {
      "name": "python3",
      "display_name": "Python 3"
    },
    "language_info": {
      "name": "python"
    }
  },
  "cells": [
    {
      "cell_type": "markdown",
      "metadata": {
        "id": "view-in-github",
        "colab_type": "text"
      },
      "source": [
        "<a href=\"https://colab.research.google.com/github/LuisGuillermoRL/Challenges_IA-Center-ML/blob/main/Ejercicio_1.ipynb\" target=\"_parent\"><img src=\"https://colab.research.google.com/assets/colab-badge.svg\" alt=\"Open In Colab\"/></a>"
      ]
    },
    {
      "cell_type": "markdown",
      "source": [
        "# Elección del dataset. Descripición:\n",
        "\n",
        "El siguiente dataset se usó en una tarea que dejaron en el posgrado en el que estudio y en la cual me pidieron hacer un análisis de Componentes Principales (PCA) para los datos de los cangrejos de Ripley:\n",
        "\n",
        "Data from Campbell & Mahon (1974) on the morphology of rock crabs of genus Leptograpsus.\n",
        "\n",
        "There are 50 specimens of each sex of each of two colour forms.\n",
        "\n",
        "Data file CRABS.DAT has rows:\n",
        "\n",
        "- sp 'species', coded B (blue form) or O (orange form).\n",
        "- sex coded M or F.\n",
        "- index within each group of 50.\n",
        "- FL frontal lip of carapace (mm).\n",
        "- RW rear width of carapace (mm).\n",
        "- CL length along the midline of carapace (mm).\n",
        "- CW maximum width of carapace (mm).\n",
        "- BD body depth (mm).\n",
        "\n",
        "Estos datos estan organizados de acuerdo al color y sexo del animal, la idea es ver si se pueden encontrar clusters en base a las lecturas FL,RW,CL,CW y BD, cuando no se conoce el color porque se decoloró\n",
        "con el tiempo."
      ],
      "metadata": {
        "id": "P_uHWuWk3ygo"
      }
    },
    {
      "cell_type": "code",
      "execution_count": null,
      "metadata": {
        "id": "FGyi9cIVr3NW"
      },
      "outputs": [],
      "source": [
        "\"\"\"importamos librerías\"\"\"\n",
        "import numpy as np\n",
        "import pandas as pd\n",
        "import matplotlib.pyplot as plt\n",
        "import seaborn as sns"
      ]
    },
    {
      "cell_type": "code",
      "source": [
        "\"\"\"\"Montamos el Drive para cargar los datos\"\"\"\n",
        "from google.colab import drive\n",
        "import os\n",
        "drive.mount('/content/drive')"
      ],
      "metadata": {
        "colab": {
          "base_uri": "https://localhost:8080/"
        },
        "id": "8patD6hMsULr",
        "outputId": "12672f0c-40bf-4011-a855-ea30c33fa439"
      },
      "execution_count": null,
      "outputs": [
        {
          "output_type": "stream",
          "name": "stdout",
          "text": [
            "Mounted at /content/drive\n"
          ]
        }
      ]
    },
    {
      "cell_type": "markdown",
      "source": [
        "###Visualizamos los datos"
      ],
      "metadata": {
        "id": "N-8110avinym"
      }
    },
    {
      "cell_type": "code",
      "source": [
        "ruta = \"/content/drive/MyDrive/Bosch Prácticas 3era parte del curso/CRABS.DAT\""
      ],
      "metadata": {
        "id": "3YVIlHy3tLgh"
      },
      "execution_count": null,
      "outputs": []
    },
    {
      "cell_type": "code",
      "source": [
        "crabs = pd.read_csv(ruta)"
      ],
      "metadata": {
        "id": "4xlO0R6wtUMV"
      },
      "execution_count": null,
      "outputs": []
    },
    {
      "cell_type": "code",
      "source": [
        "crabs.columns"
      ],
      "metadata": {
        "colab": {
          "base_uri": "https://localhost:8080/"
        },
        "id": "lHekuV4VSEL5",
        "outputId": "666da88a-f22f-4674-d860-ce8f56d2c1bc"
      },
      "execution_count": null,
      "outputs": [
        {
          "output_type": "execute_result",
          "data": {
            "text/plain": [
              "Index(['sp sex index FL RW CL CW BD'], dtype='object')"
            ]
          },
          "metadata": {},
          "execution_count": 6
        }
      ]
    },
    {
      "cell_type": "code",
      "source": [
        "crabs #Datos amontonados en una columna por 200 filas"
      ],
      "metadata": {
        "id": "w2oqm2SrtcJE",
        "colab": {
          "base_uri": "https://localhost:8080/",
          "height": 423
        },
        "outputId": "08caaafc-5c27-423a-e9ba-643c2393c1f1"
      },
      "execution_count": null,
      "outputs": [
        {
          "output_type": "execute_result",
          "data": {
            "text/plain": [
              "         sp sex index FL RW CL CW BD\n",
              "0    B M  1  8.1  6.7 16.1 19.0  7.0\n",
              "1    B M  2  8.8  7.7 18.1 20.8  7.4\n",
              "2    B M  3  9.2  7.8 19.0 22.4  7.7\n",
              "3    B M  4  9.6  7.9 20.1 23.1  8.2\n",
              "4    B M  5  9.8  8.0 20.3 23.0  8.2\n",
              "..                               ...\n",
              "195  O F 46 21.4 18.0 41.2 46.2 18.7\n",
              "196  O F 47 21.7 17.1 41.7 47.2 19.6\n",
              "197  O F 48 21.9 17.2 42.6 47.4 19.5\n",
              "198  O F 49 22.5 17.2 43.0 48.7 19.8\n",
              "199  O F 50 23.1 20.2 46.2 52.5 21.1\n",
              "\n",
              "[200 rows x 1 columns]"
            ],
            "text/html": [
              "\n",
              "  <div id=\"df-7224b940-1fd3-4079-bde4-3296a346df88\" class=\"colab-df-container\">\n",
              "    <div>\n",
              "<style scoped>\n",
              "    .dataframe tbody tr th:only-of-type {\n",
              "        vertical-align: middle;\n",
              "    }\n",
              "\n",
              "    .dataframe tbody tr th {\n",
              "        vertical-align: top;\n",
              "    }\n",
              "\n",
              "    .dataframe thead th {\n",
              "        text-align: right;\n",
              "    }\n",
              "</style>\n",
              "<table border=\"1\" class=\"dataframe\">\n",
              "  <thead>\n",
              "    <tr style=\"text-align: right;\">\n",
              "      <th></th>\n",
              "      <th>sp sex index FL RW CL CW BD</th>\n",
              "    </tr>\n",
              "  </thead>\n",
              "  <tbody>\n",
              "    <tr>\n",
              "      <th>0</th>\n",
              "      <td>B M  1  8.1  6.7 16.1 19.0  7.0</td>\n",
              "    </tr>\n",
              "    <tr>\n",
              "      <th>1</th>\n",
              "      <td>B M  2  8.8  7.7 18.1 20.8  7.4</td>\n",
              "    </tr>\n",
              "    <tr>\n",
              "      <th>2</th>\n",
              "      <td>B M  3  9.2  7.8 19.0 22.4  7.7</td>\n",
              "    </tr>\n",
              "    <tr>\n",
              "      <th>3</th>\n",
              "      <td>B M  4  9.6  7.9 20.1 23.1  8.2</td>\n",
              "    </tr>\n",
              "    <tr>\n",
              "      <th>4</th>\n",
              "      <td>B M  5  9.8  8.0 20.3 23.0  8.2</td>\n",
              "    </tr>\n",
              "    <tr>\n",
              "      <th>...</th>\n",
              "      <td>...</td>\n",
              "    </tr>\n",
              "    <tr>\n",
              "      <th>195</th>\n",
              "      <td>O F 46 21.4 18.0 41.2 46.2 18.7</td>\n",
              "    </tr>\n",
              "    <tr>\n",
              "      <th>196</th>\n",
              "      <td>O F 47 21.7 17.1 41.7 47.2 19.6</td>\n",
              "    </tr>\n",
              "    <tr>\n",
              "      <th>197</th>\n",
              "      <td>O F 48 21.9 17.2 42.6 47.4 19.5</td>\n",
              "    </tr>\n",
              "    <tr>\n",
              "      <th>198</th>\n",
              "      <td>O F 49 22.5 17.2 43.0 48.7 19.8</td>\n",
              "    </tr>\n",
              "    <tr>\n",
              "      <th>199</th>\n",
              "      <td>O F 50 23.1 20.2 46.2 52.5 21.1</td>\n",
              "    </tr>\n",
              "  </tbody>\n",
              "</table>\n",
              "<p>200 rows × 1 columns</p>\n",
              "</div>\n",
              "    <div class=\"colab-df-buttons\">\n",
              "\n",
              "  <div class=\"colab-df-container\">\n",
              "    <button class=\"colab-df-convert\" onclick=\"convertToInteractive('df-7224b940-1fd3-4079-bde4-3296a346df88')\"\n",
              "            title=\"Convert this dataframe to an interactive table.\"\n",
              "            style=\"display:none;\">\n",
              "\n",
              "  <svg xmlns=\"http://www.w3.org/2000/svg\" height=\"24px\" viewBox=\"0 -960 960 960\">\n",
              "    <path d=\"M120-120v-720h720v720H120Zm60-500h600v-160H180v160Zm220 220h160v-160H400v160Zm0 220h160v-160H400v160ZM180-400h160v-160H180v160Zm440 0h160v-160H620v160ZM180-180h160v-160H180v160Zm440 0h160v-160H620v160Z\"/>\n",
              "  </svg>\n",
              "    </button>\n",
              "\n",
              "  <style>\n",
              "    .colab-df-container {\n",
              "      display:flex;\n",
              "      gap: 12px;\n",
              "    }\n",
              "\n",
              "    .colab-df-convert {\n",
              "      background-color: #E8F0FE;\n",
              "      border: none;\n",
              "      border-radius: 50%;\n",
              "      cursor: pointer;\n",
              "      display: none;\n",
              "      fill: #1967D2;\n",
              "      height: 32px;\n",
              "      padding: 0 0 0 0;\n",
              "      width: 32px;\n",
              "    }\n",
              "\n",
              "    .colab-df-convert:hover {\n",
              "      background-color: #E2EBFA;\n",
              "      box-shadow: 0px 1px 2px rgba(60, 64, 67, 0.3), 0px 1px 3px 1px rgba(60, 64, 67, 0.15);\n",
              "      fill: #174EA6;\n",
              "    }\n",
              "\n",
              "    .colab-df-buttons div {\n",
              "      margin-bottom: 4px;\n",
              "    }\n",
              "\n",
              "    [theme=dark] .colab-df-convert {\n",
              "      background-color: #3B4455;\n",
              "      fill: #D2E3FC;\n",
              "    }\n",
              "\n",
              "    [theme=dark] .colab-df-convert:hover {\n",
              "      background-color: #434B5C;\n",
              "      box-shadow: 0px 1px 3px 1px rgba(0, 0, 0, 0.15);\n",
              "      filter: drop-shadow(0px 1px 2px rgba(0, 0, 0, 0.3));\n",
              "      fill: #FFFFFF;\n",
              "    }\n",
              "  </style>\n",
              "\n",
              "    <script>\n",
              "      const buttonEl =\n",
              "        document.querySelector('#df-7224b940-1fd3-4079-bde4-3296a346df88 button.colab-df-convert');\n",
              "      buttonEl.style.display =\n",
              "        google.colab.kernel.accessAllowed ? 'block' : 'none';\n",
              "\n",
              "      async function convertToInteractive(key) {\n",
              "        const element = document.querySelector('#df-7224b940-1fd3-4079-bde4-3296a346df88');\n",
              "        const dataTable =\n",
              "          await google.colab.kernel.invokeFunction('convertToInteractive',\n",
              "                                                    [key], {});\n",
              "        if (!dataTable) return;\n",
              "\n",
              "        const docLinkHtml = 'Like what you see? Visit the ' +\n",
              "          '<a target=\"_blank\" href=https://colab.research.google.com/notebooks/data_table.ipynb>data table notebook</a>'\n",
              "          + ' to learn more about interactive tables.';\n",
              "        element.innerHTML = '';\n",
              "        dataTable['output_type'] = 'display_data';\n",
              "        await google.colab.output.renderOutput(dataTable, element);\n",
              "        const docLink = document.createElement('div');\n",
              "        docLink.innerHTML = docLinkHtml;\n",
              "        element.appendChild(docLink);\n",
              "      }\n",
              "    </script>\n",
              "  </div>\n",
              "\n",
              "\n",
              "<div id=\"df-698f4cc1-76e8-490b-889f-043b1726d4fb\">\n",
              "  <button class=\"colab-df-quickchart\" onclick=\"quickchart('df-698f4cc1-76e8-490b-889f-043b1726d4fb')\"\n",
              "            title=\"Suggest charts.\"\n",
              "            style=\"display:none;\">\n",
              "\n",
              "<svg xmlns=\"http://www.w3.org/2000/svg\" height=\"24px\"viewBox=\"0 0 24 24\"\n",
              "     width=\"24px\">\n",
              "    <g>\n",
              "        <path d=\"M19 3H5c-1.1 0-2 .9-2 2v14c0 1.1.9 2 2 2h14c1.1 0 2-.9 2-2V5c0-1.1-.9-2-2-2zM9 17H7v-7h2v7zm4 0h-2V7h2v10zm4 0h-2v-4h2v4z\"/>\n",
              "    </g>\n",
              "</svg>\n",
              "  </button>\n",
              "\n",
              "<style>\n",
              "  .colab-df-quickchart {\n",
              "      --bg-color: #E8F0FE;\n",
              "      --fill-color: #1967D2;\n",
              "      --hover-bg-color: #E2EBFA;\n",
              "      --hover-fill-color: #174EA6;\n",
              "      --disabled-fill-color: #AAA;\n",
              "      --disabled-bg-color: #DDD;\n",
              "  }\n",
              "\n",
              "  [theme=dark] .colab-df-quickchart {\n",
              "      --bg-color: #3B4455;\n",
              "      --fill-color: #D2E3FC;\n",
              "      --hover-bg-color: #434B5C;\n",
              "      --hover-fill-color: #FFFFFF;\n",
              "      --disabled-bg-color: #3B4455;\n",
              "      --disabled-fill-color: #666;\n",
              "  }\n",
              "\n",
              "  .colab-df-quickchart {\n",
              "    background-color: var(--bg-color);\n",
              "    border: none;\n",
              "    border-radius: 50%;\n",
              "    cursor: pointer;\n",
              "    display: none;\n",
              "    fill: var(--fill-color);\n",
              "    height: 32px;\n",
              "    padding: 0;\n",
              "    width: 32px;\n",
              "  }\n",
              "\n",
              "  .colab-df-quickchart:hover {\n",
              "    background-color: var(--hover-bg-color);\n",
              "    box-shadow: 0 1px 2px rgba(60, 64, 67, 0.3), 0 1px 3px 1px rgba(60, 64, 67, 0.15);\n",
              "    fill: var(--button-hover-fill-color);\n",
              "  }\n",
              "\n",
              "  .colab-df-quickchart-complete:disabled,\n",
              "  .colab-df-quickchart-complete:disabled:hover {\n",
              "    background-color: var(--disabled-bg-color);\n",
              "    fill: var(--disabled-fill-color);\n",
              "    box-shadow: none;\n",
              "  }\n",
              "\n",
              "  .colab-df-spinner {\n",
              "    border: 2px solid var(--fill-color);\n",
              "    border-color: transparent;\n",
              "    border-bottom-color: var(--fill-color);\n",
              "    animation:\n",
              "      spin 1s steps(1) infinite;\n",
              "  }\n",
              "\n",
              "  @keyframes spin {\n",
              "    0% {\n",
              "      border-color: transparent;\n",
              "      border-bottom-color: var(--fill-color);\n",
              "      border-left-color: var(--fill-color);\n",
              "    }\n",
              "    20% {\n",
              "      border-color: transparent;\n",
              "      border-left-color: var(--fill-color);\n",
              "      border-top-color: var(--fill-color);\n",
              "    }\n",
              "    30% {\n",
              "      border-color: transparent;\n",
              "      border-left-color: var(--fill-color);\n",
              "      border-top-color: var(--fill-color);\n",
              "      border-right-color: var(--fill-color);\n",
              "    }\n",
              "    40% {\n",
              "      border-color: transparent;\n",
              "      border-right-color: var(--fill-color);\n",
              "      border-top-color: var(--fill-color);\n",
              "    }\n",
              "    60% {\n",
              "      border-color: transparent;\n",
              "      border-right-color: var(--fill-color);\n",
              "    }\n",
              "    80% {\n",
              "      border-color: transparent;\n",
              "      border-right-color: var(--fill-color);\n",
              "      border-bottom-color: var(--fill-color);\n",
              "    }\n",
              "    90% {\n",
              "      border-color: transparent;\n",
              "      border-bottom-color: var(--fill-color);\n",
              "    }\n",
              "  }\n",
              "</style>\n",
              "\n",
              "  <script>\n",
              "    async function quickchart(key) {\n",
              "      const quickchartButtonEl =\n",
              "        document.querySelector('#' + key + ' button');\n",
              "      quickchartButtonEl.disabled = true;  // To prevent multiple clicks.\n",
              "      quickchartButtonEl.classList.add('colab-df-spinner');\n",
              "      try {\n",
              "        const charts = await google.colab.kernel.invokeFunction(\n",
              "            'suggestCharts', [key], {});\n",
              "      } catch (error) {\n",
              "        console.error('Error during call to suggestCharts:', error);\n",
              "      }\n",
              "      quickchartButtonEl.classList.remove('colab-df-spinner');\n",
              "      quickchartButtonEl.classList.add('colab-df-quickchart-complete');\n",
              "    }\n",
              "    (() => {\n",
              "      let quickchartButtonEl =\n",
              "        document.querySelector('#df-698f4cc1-76e8-490b-889f-043b1726d4fb button');\n",
              "      quickchartButtonEl.style.display =\n",
              "        google.colab.kernel.accessAllowed ? 'block' : 'none';\n",
              "    })();\n",
              "  </script>\n",
              "</div>\n",
              "    </div>\n",
              "  </div>\n"
            ]
          },
          "metadata": {},
          "execution_count": 7
        }
      ]
    },
    {
      "cell_type": "code",
      "source": [
        "crabs_copy = crabs.copy()"
      ],
      "metadata": {
        "id": "zLXJSYTESmxb"
      },
      "execution_count": null,
      "outputs": []
    },
    {
      "cell_type": "code",
      "source": [
        "crabs_copy = crabs_copy['sp sex index FL RW CL CW BD'].str.split(expand=True) #Distinto a split(\" \", expand=True)"
      ],
      "metadata": {
        "id": "eoyq5TONRtbJ"
      },
      "execution_count": null,
      "outputs": []
    },
    {
      "cell_type": "code",
      "source": [
        "crabs_copy.columns = ['sp', 'sex', 'index', 'FL', 'RW', 'CL', 'CW', 'BD']\n",
        "crabs_copy"
      ],
      "metadata": {
        "colab": {
          "base_uri": "https://localhost:8080/",
          "height": 423
        },
        "id": "lLI9tzCw9B2J",
        "outputId": "827c1a5e-ccdf-4338-bf92-32664a5574fe"
      },
      "execution_count": null,
      "outputs": [
        {
          "output_type": "execute_result",
          "data": {
            "text/plain": [
              "    sp sex index    FL    RW    CL    CW    BD\n",
              "0    B   M     1   8.1   6.7  16.1  19.0   7.0\n",
              "1    B   M     2   8.8   7.7  18.1  20.8   7.4\n",
              "2    B   M     3   9.2   7.8  19.0  22.4   7.7\n",
              "3    B   M     4   9.6   7.9  20.1  23.1   8.2\n",
              "4    B   M     5   9.8   8.0  20.3  23.0   8.2\n",
              "..  ..  ..   ...   ...   ...   ...   ...   ...\n",
              "195  O   F    46  21.4  18.0  41.2  46.2  18.7\n",
              "196  O   F    47  21.7  17.1  41.7  47.2  19.6\n",
              "197  O   F    48  21.9  17.2  42.6  47.4  19.5\n",
              "198  O   F    49  22.5  17.2  43.0  48.7  19.8\n",
              "199  O   F    50  23.1  20.2  46.2  52.5  21.1\n",
              "\n",
              "[200 rows x 8 columns]"
            ],
            "text/html": [
              "\n",
              "  <div id=\"df-95a9faa7-db02-4fea-a7f1-201e08831267\" class=\"colab-df-container\">\n",
              "    <div>\n",
              "<style scoped>\n",
              "    .dataframe tbody tr th:only-of-type {\n",
              "        vertical-align: middle;\n",
              "    }\n",
              "\n",
              "    .dataframe tbody tr th {\n",
              "        vertical-align: top;\n",
              "    }\n",
              "\n",
              "    .dataframe thead th {\n",
              "        text-align: right;\n",
              "    }\n",
              "</style>\n",
              "<table border=\"1\" class=\"dataframe\">\n",
              "  <thead>\n",
              "    <tr style=\"text-align: right;\">\n",
              "      <th></th>\n",
              "      <th>sp</th>\n",
              "      <th>sex</th>\n",
              "      <th>index</th>\n",
              "      <th>FL</th>\n",
              "      <th>RW</th>\n",
              "      <th>CL</th>\n",
              "      <th>CW</th>\n",
              "      <th>BD</th>\n",
              "    </tr>\n",
              "  </thead>\n",
              "  <tbody>\n",
              "    <tr>\n",
              "      <th>0</th>\n",
              "      <td>B</td>\n",
              "      <td>M</td>\n",
              "      <td>1</td>\n",
              "      <td>8.1</td>\n",
              "      <td>6.7</td>\n",
              "      <td>16.1</td>\n",
              "      <td>19.0</td>\n",
              "      <td>7.0</td>\n",
              "    </tr>\n",
              "    <tr>\n",
              "      <th>1</th>\n",
              "      <td>B</td>\n",
              "      <td>M</td>\n",
              "      <td>2</td>\n",
              "      <td>8.8</td>\n",
              "      <td>7.7</td>\n",
              "      <td>18.1</td>\n",
              "      <td>20.8</td>\n",
              "      <td>7.4</td>\n",
              "    </tr>\n",
              "    <tr>\n",
              "      <th>2</th>\n",
              "      <td>B</td>\n",
              "      <td>M</td>\n",
              "      <td>3</td>\n",
              "      <td>9.2</td>\n",
              "      <td>7.8</td>\n",
              "      <td>19.0</td>\n",
              "      <td>22.4</td>\n",
              "      <td>7.7</td>\n",
              "    </tr>\n",
              "    <tr>\n",
              "      <th>3</th>\n",
              "      <td>B</td>\n",
              "      <td>M</td>\n",
              "      <td>4</td>\n",
              "      <td>9.6</td>\n",
              "      <td>7.9</td>\n",
              "      <td>20.1</td>\n",
              "      <td>23.1</td>\n",
              "      <td>8.2</td>\n",
              "    </tr>\n",
              "    <tr>\n",
              "      <th>4</th>\n",
              "      <td>B</td>\n",
              "      <td>M</td>\n",
              "      <td>5</td>\n",
              "      <td>9.8</td>\n",
              "      <td>8.0</td>\n",
              "      <td>20.3</td>\n",
              "      <td>23.0</td>\n",
              "      <td>8.2</td>\n",
              "    </tr>\n",
              "    <tr>\n",
              "      <th>...</th>\n",
              "      <td>...</td>\n",
              "      <td>...</td>\n",
              "      <td>...</td>\n",
              "      <td>...</td>\n",
              "      <td>...</td>\n",
              "      <td>...</td>\n",
              "      <td>...</td>\n",
              "      <td>...</td>\n",
              "    </tr>\n",
              "    <tr>\n",
              "      <th>195</th>\n",
              "      <td>O</td>\n",
              "      <td>F</td>\n",
              "      <td>46</td>\n",
              "      <td>21.4</td>\n",
              "      <td>18.0</td>\n",
              "      <td>41.2</td>\n",
              "      <td>46.2</td>\n",
              "      <td>18.7</td>\n",
              "    </tr>\n",
              "    <tr>\n",
              "      <th>196</th>\n",
              "      <td>O</td>\n",
              "      <td>F</td>\n",
              "      <td>47</td>\n",
              "      <td>21.7</td>\n",
              "      <td>17.1</td>\n",
              "      <td>41.7</td>\n",
              "      <td>47.2</td>\n",
              "      <td>19.6</td>\n",
              "    </tr>\n",
              "    <tr>\n",
              "      <th>197</th>\n",
              "      <td>O</td>\n",
              "      <td>F</td>\n",
              "      <td>48</td>\n",
              "      <td>21.9</td>\n",
              "      <td>17.2</td>\n",
              "      <td>42.6</td>\n",
              "      <td>47.4</td>\n",
              "      <td>19.5</td>\n",
              "    </tr>\n",
              "    <tr>\n",
              "      <th>198</th>\n",
              "      <td>O</td>\n",
              "      <td>F</td>\n",
              "      <td>49</td>\n",
              "      <td>22.5</td>\n",
              "      <td>17.2</td>\n",
              "      <td>43.0</td>\n",
              "      <td>48.7</td>\n",
              "      <td>19.8</td>\n",
              "    </tr>\n",
              "    <tr>\n",
              "      <th>199</th>\n",
              "      <td>O</td>\n",
              "      <td>F</td>\n",
              "      <td>50</td>\n",
              "      <td>23.1</td>\n",
              "      <td>20.2</td>\n",
              "      <td>46.2</td>\n",
              "      <td>52.5</td>\n",
              "      <td>21.1</td>\n",
              "    </tr>\n",
              "  </tbody>\n",
              "</table>\n",
              "<p>200 rows × 8 columns</p>\n",
              "</div>\n",
              "    <div class=\"colab-df-buttons\">\n",
              "\n",
              "  <div class=\"colab-df-container\">\n",
              "    <button class=\"colab-df-convert\" onclick=\"convertToInteractive('df-95a9faa7-db02-4fea-a7f1-201e08831267')\"\n",
              "            title=\"Convert this dataframe to an interactive table.\"\n",
              "            style=\"display:none;\">\n",
              "\n",
              "  <svg xmlns=\"http://www.w3.org/2000/svg\" height=\"24px\" viewBox=\"0 -960 960 960\">\n",
              "    <path d=\"M120-120v-720h720v720H120Zm60-500h600v-160H180v160Zm220 220h160v-160H400v160Zm0 220h160v-160H400v160ZM180-400h160v-160H180v160Zm440 0h160v-160H620v160ZM180-180h160v-160H180v160Zm440 0h160v-160H620v160Z\"/>\n",
              "  </svg>\n",
              "    </button>\n",
              "\n",
              "  <style>\n",
              "    .colab-df-container {\n",
              "      display:flex;\n",
              "      gap: 12px;\n",
              "    }\n",
              "\n",
              "    .colab-df-convert {\n",
              "      background-color: #E8F0FE;\n",
              "      border: none;\n",
              "      border-radius: 50%;\n",
              "      cursor: pointer;\n",
              "      display: none;\n",
              "      fill: #1967D2;\n",
              "      height: 32px;\n",
              "      padding: 0 0 0 0;\n",
              "      width: 32px;\n",
              "    }\n",
              "\n",
              "    .colab-df-convert:hover {\n",
              "      background-color: #E2EBFA;\n",
              "      box-shadow: 0px 1px 2px rgba(60, 64, 67, 0.3), 0px 1px 3px 1px rgba(60, 64, 67, 0.15);\n",
              "      fill: #174EA6;\n",
              "    }\n",
              "\n",
              "    .colab-df-buttons div {\n",
              "      margin-bottom: 4px;\n",
              "    }\n",
              "\n",
              "    [theme=dark] .colab-df-convert {\n",
              "      background-color: #3B4455;\n",
              "      fill: #D2E3FC;\n",
              "    }\n",
              "\n",
              "    [theme=dark] .colab-df-convert:hover {\n",
              "      background-color: #434B5C;\n",
              "      box-shadow: 0px 1px 3px 1px rgba(0, 0, 0, 0.15);\n",
              "      filter: drop-shadow(0px 1px 2px rgba(0, 0, 0, 0.3));\n",
              "      fill: #FFFFFF;\n",
              "    }\n",
              "  </style>\n",
              "\n",
              "    <script>\n",
              "      const buttonEl =\n",
              "        document.querySelector('#df-95a9faa7-db02-4fea-a7f1-201e08831267 button.colab-df-convert');\n",
              "      buttonEl.style.display =\n",
              "        google.colab.kernel.accessAllowed ? 'block' : 'none';\n",
              "\n",
              "      async function convertToInteractive(key) {\n",
              "        const element = document.querySelector('#df-95a9faa7-db02-4fea-a7f1-201e08831267');\n",
              "        const dataTable =\n",
              "          await google.colab.kernel.invokeFunction('convertToInteractive',\n",
              "                                                    [key], {});\n",
              "        if (!dataTable) return;\n",
              "\n",
              "        const docLinkHtml = 'Like what you see? Visit the ' +\n",
              "          '<a target=\"_blank\" href=https://colab.research.google.com/notebooks/data_table.ipynb>data table notebook</a>'\n",
              "          + ' to learn more about interactive tables.';\n",
              "        element.innerHTML = '';\n",
              "        dataTable['output_type'] = 'display_data';\n",
              "        await google.colab.output.renderOutput(dataTable, element);\n",
              "        const docLink = document.createElement('div');\n",
              "        docLink.innerHTML = docLinkHtml;\n",
              "        element.appendChild(docLink);\n",
              "      }\n",
              "    </script>\n",
              "  </div>\n",
              "\n",
              "\n",
              "<div id=\"df-7b915daa-d6e8-4061-bedc-c42b567e55e1\">\n",
              "  <button class=\"colab-df-quickchart\" onclick=\"quickchart('df-7b915daa-d6e8-4061-bedc-c42b567e55e1')\"\n",
              "            title=\"Suggest charts.\"\n",
              "            style=\"display:none;\">\n",
              "\n",
              "<svg xmlns=\"http://www.w3.org/2000/svg\" height=\"24px\"viewBox=\"0 0 24 24\"\n",
              "     width=\"24px\">\n",
              "    <g>\n",
              "        <path d=\"M19 3H5c-1.1 0-2 .9-2 2v14c0 1.1.9 2 2 2h14c1.1 0 2-.9 2-2V5c0-1.1-.9-2-2-2zM9 17H7v-7h2v7zm4 0h-2V7h2v10zm4 0h-2v-4h2v4z\"/>\n",
              "    </g>\n",
              "</svg>\n",
              "  </button>\n",
              "\n",
              "<style>\n",
              "  .colab-df-quickchart {\n",
              "      --bg-color: #E8F0FE;\n",
              "      --fill-color: #1967D2;\n",
              "      --hover-bg-color: #E2EBFA;\n",
              "      --hover-fill-color: #174EA6;\n",
              "      --disabled-fill-color: #AAA;\n",
              "      --disabled-bg-color: #DDD;\n",
              "  }\n",
              "\n",
              "  [theme=dark] .colab-df-quickchart {\n",
              "      --bg-color: #3B4455;\n",
              "      --fill-color: #D2E3FC;\n",
              "      --hover-bg-color: #434B5C;\n",
              "      --hover-fill-color: #FFFFFF;\n",
              "      --disabled-bg-color: #3B4455;\n",
              "      --disabled-fill-color: #666;\n",
              "  }\n",
              "\n",
              "  .colab-df-quickchart {\n",
              "    background-color: var(--bg-color);\n",
              "    border: none;\n",
              "    border-radius: 50%;\n",
              "    cursor: pointer;\n",
              "    display: none;\n",
              "    fill: var(--fill-color);\n",
              "    height: 32px;\n",
              "    padding: 0;\n",
              "    width: 32px;\n",
              "  }\n",
              "\n",
              "  .colab-df-quickchart:hover {\n",
              "    background-color: var(--hover-bg-color);\n",
              "    box-shadow: 0 1px 2px rgba(60, 64, 67, 0.3), 0 1px 3px 1px rgba(60, 64, 67, 0.15);\n",
              "    fill: var(--button-hover-fill-color);\n",
              "  }\n",
              "\n",
              "  .colab-df-quickchart-complete:disabled,\n",
              "  .colab-df-quickchart-complete:disabled:hover {\n",
              "    background-color: var(--disabled-bg-color);\n",
              "    fill: var(--disabled-fill-color);\n",
              "    box-shadow: none;\n",
              "  }\n",
              "\n",
              "  .colab-df-spinner {\n",
              "    border: 2px solid var(--fill-color);\n",
              "    border-color: transparent;\n",
              "    border-bottom-color: var(--fill-color);\n",
              "    animation:\n",
              "      spin 1s steps(1) infinite;\n",
              "  }\n",
              "\n",
              "  @keyframes spin {\n",
              "    0% {\n",
              "      border-color: transparent;\n",
              "      border-bottom-color: var(--fill-color);\n",
              "      border-left-color: var(--fill-color);\n",
              "    }\n",
              "    20% {\n",
              "      border-color: transparent;\n",
              "      border-left-color: var(--fill-color);\n",
              "      border-top-color: var(--fill-color);\n",
              "    }\n",
              "    30% {\n",
              "      border-color: transparent;\n",
              "      border-left-color: var(--fill-color);\n",
              "      border-top-color: var(--fill-color);\n",
              "      border-right-color: var(--fill-color);\n",
              "    }\n",
              "    40% {\n",
              "      border-color: transparent;\n",
              "      border-right-color: var(--fill-color);\n",
              "      border-top-color: var(--fill-color);\n",
              "    }\n",
              "    60% {\n",
              "      border-color: transparent;\n",
              "      border-right-color: var(--fill-color);\n",
              "    }\n",
              "    80% {\n",
              "      border-color: transparent;\n",
              "      border-right-color: var(--fill-color);\n",
              "      border-bottom-color: var(--fill-color);\n",
              "    }\n",
              "    90% {\n",
              "      border-color: transparent;\n",
              "      border-bottom-color: var(--fill-color);\n",
              "    }\n",
              "  }\n",
              "</style>\n",
              "\n",
              "  <script>\n",
              "    async function quickchart(key) {\n",
              "      const quickchartButtonEl =\n",
              "        document.querySelector('#' + key + ' button');\n",
              "      quickchartButtonEl.disabled = true;  // To prevent multiple clicks.\n",
              "      quickchartButtonEl.classList.add('colab-df-spinner');\n",
              "      try {\n",
              "        const charts = await google.colab.kernel.invokeFunction(\n",
              "            'suggestCharts', [key], {});\n",
              "      } catch (error) {\n",
              "        console.error('Error during call to suggestCharts:', error);\n",
              "      }\n",
              "      quickchartButtonEl.classList.remove('colab-df-spinner');\n",
              "      quickchartButtonEl.classList.add('colab-df-quickchart-complete');\n",
              "    }\n",
              "    (() => {\n",
              "      let quickchartButtonEl =\n",
              "        document.querySelector('#df-7b915daa-d6e8-4061-bedc-c42b567e55e1 button');\n",
              "      quickchartButtonEl.style.display =\n",
              "        google.colab.kernel.accessAllowed ? 'block' : 'none';\n",
              "    })();\n",
              "  </script>\n",
              "</div>\n",
              "    </div>\n",
              "  </div>\n"
            ]
          },
          "metadata": {},
          "execution_count": 10
        }
      ]
    },
    {
      "cell_type": "markdown",
      "source": [
        "Se observa que hay 50 B M, 50 B F, 50 O M y 50  O F. (Dataset bien balanceado)"
      ],
      "metadata": {
        "id": "7H5jjbEZO7BY"
      }
    },
    {
      "cell_type": "markdown",
      "source": [
        "# Exploración del dataset"
      ],
      "metadata": {
        "id": "LVgjNB7Z_CIi"
      }
    },
    {
      "cell_type": "code",
      "source": [
        "crabs_copy.sp.unique()"
      ],
      "metadata": {
        "colab": {
          "base_uri": "https://localhost:8080/"
        },
        "id": "8PlM3qawCQrr",
        "outputId": "5cdbc95d-91a4-406b-f84b-dbaf0be4f2ef"
      },
      "execution_count": null,
      "outputs": [
        {
          "output_type": "execute_result",
          "data": {
            "text/plain": [
              "array(['B', 'O'], dtype=object)"
            ]
          },
          "metadata": {},
          "execution_count": 11
        }
      ]
    },
    {
      "cell_type": "code",
      "source": [
        "crabs_copy['index'].unique()"
      ],
      "metadata": {
        "colab": {
          "base_uri": "https://localhost:8080/"
        },
        "id": "TEsAXJfiCYKa",
        "outputId": "29ee1203-09ad-4f1e-a005-cfd7c5dfdb0e"
      },
      "execution_count": null,
      "outputs": [
        {
          "output_type": "execute_result",
          "data": {
            "text/plain": [
              "array(['1', '2', '3', '4', '5', '6', '7', '8', '9', '10', '11', '12',\n",
              "       '13', '14', '15', '16', '17', '18', '19', '20', '21', '22', '23',\n",
              "       '24', '25', '26', '27', '28', '29', '30', '31', '32', '33', '34',\n",
              "       '35', '36', '37', '38', '39', '40', '41', '42', '43', '44', '45',\n",
              "       '46', '47', '48', '49', '50'], dtype=object)"
            ]
          },
          "metadata": {},
          "execution_count": 12
        }
      ]
    },
    {
      "cell_type": "code",
      "source": [
        "crabs_copy.info()"
      ],
      "metadata": {
        "colab": {
          "base_uri": "https://localhost:8080/"
        },
        "id": "q65h3TPQ-0hr",
        "outputId": "95092790-b8ab-4df4-f6c6-39dace79b38b"
      },
      "execution_count": null,
      "outputs": [
        {
          "output_type": "stream",
          "name": "stdout",
          "text": [
            "<class 'pandas.core.frame.DataFrame'>\n",
            "RangeIndex: 200 entries, 0 to 199\n",
            "Data columns (total 8 columns):\n",
            " #   Column  Non-Null Count  Dtype \n",
            "---  ------  --------------  ----- \n",
            " 0   sp      200 non-null    object\n",
            " 1   sex     200 non-null    object\n",
            " 2   index   200 non-null    object\n",
            " 3   FL      200 non-null    object\n",
            " 4   RW      200 non-null    object\n",
            " 5   CL      200 non-null    object\n",
            " 6   CW      200 non-null    object\n",
            " 7   BD      200 non-null    object\n",
            "dtypes: object(8)\n",
            "memory usage: 12.6+ KB\n"
          ]
        }
      ]
    },
    {
      "cell_type": "code",
      "source": [
        "crabs_copy['index'] = crabs_copy['index'].astype(int)"
      ],
      "metadata": {
        "id": "DVBEydSSFFkT"
      },
      "execution_count": null,
      "outputs": []
    },
    {
      "cell_type": "code",
      "source": [
        "crabs_copy[['BD','CW', 'CL', 'RW', 'FL']] = crabs_copy[['BD','CW', 'CL', 'RW', 'FL']].astype(float)"
      ],
      "metadata": {
        "id": "fcdDjGP2GFpL"
      },
      "execution_count": null,
      "outputs": []
    },
    {
      "cell_type": "code",
      "source": [
        "crabs_copy.info()"
      ],
      "metadata": {
        "colab": {
          "base_uri": "https://localhost:8080/"
        },
        "id": "DRwPoebQH33V",
        "outputId": "6d6aa98a-1011-4b81-8ae3-fc62c02d4e69"
      },
      "execution_count": null,
      "outputs": [
        {
          "output_type": "stream",
          "name": "stdout",
          "text": [
            "<class 'pandas.core.frame.DataFrame'>\n",
            "RangeIndex: 200 entries, 0 to 199\n",
            "Data columns (total 8 columns):\n",
            " #   Column  Non-Null Count  Dtype  \n",
            "---  ------  --------------  -----  \n",
            " 0   sp      200 non-null    object \n",
            " 1   sex     200 non-null    object \n",
            " 2   index   200 non-null    int64  \n",
            " 3   FL      200 non-null    float64\n",
            " 4   RW      200 non-null    float64\n",
            " 5   CL      200 non-null    float64\n",
            " 6   CW      200 non-null    float64\n",
            " 7   BD      200 non-null    float64\n",
            "dtypes: float64(5), int64(1), object(2)\n",
            "memory usage: 12.6+ KB\n"
          ]
        }
      ]
    },
    {
      "cell_type": "code",
      "source": [
        "crabs_copy.describe()"
      ],
      "metadata": {
        "colab": {
          "base_uri": "https://localhost:8080/",
          "height": 300
        },
        "id": "67AXSV02IFXG",
        "outputId": "b4fc37ba-3a1a-49e6-bcf1-07fc8f85c6ff"
      },
      "execution_count": null,
      "outputs": [
        {
          "output_type": "execute_result",
          "data": {
            "text/plain": [
              "            index          FL         RW          CL          CW          BD\n",
              "count  200.000000  200.000000  200.00000  200.000000  200.000000  200.000000\n",
              "mean    25.500000   15.583000   12.73850   32.105500   36.414500   14.030500\n",
              "std     14.467083    3.495325    2.57334    7.118983    7.871955    3.424772\n",
              "min      1.000000    7.200000    6.50000   14.700000   17.100000    6.100000\n",
              "25%     13.000000   12.900000   11.00000   27.275000   31.500000   11.400000\n",
              "50%     25.500000   15.550000   12.80000   32.100000   36.800000   13.900000\n",
              "75%     38.000000   18.050000   14.30000   37.225000   42.000000   16.600000\n",
              "max     50.000000   23.100000   20.20000   47.600000   54.600000   21.600000"
            ],
            "text/html": [
              "\n",
              "  <div id=\"df-6d718184-ec4d-4f4a-9b4e-75007316c130\" class=\"colab-df-container\">\n",
              "    <div>\n",
              "<style scoped>\n",
              "    .dataframe tbody tr th:only-of-type {\n",
              "        vertical-align: middle;\n",
              "    }\n",
              "\n",
              "    .dataframe tbody tr th {\n",
              "        vertical-align: top;\n",
              "    }\n",
              "\n",
              "    .dataframe thead th {\n",
              "        text-align: right;\n",
              "    }\n",
              "</style>\n",
              "<table border=\"1\" class=\"dataframe\">\n",
              "  <thead>\n",
              "    <tr style=\"text-align: right;\">\n",
              "      <th></th>\n",
              "      <th>index</th>\n",
              "      <th>FL</th>\n",
              "      <th>RW</th>\n",
              "      <th>CL</th>\n",
              "      <th>CW</th>\n",
              "      <th>BD</th>\n",
              "    </tr>\n",
              "  </thead>\n",
              "  <tbody>\n",
              "    <tr>\n",
              "      <th>count</th>\n",
              "      <td>200.000000</td>\n",
              "      <td>200.000000</td>\n",
              "      <td>200.00000</td>\n",
              "      <td>200.000000</td>\n",
              "      <td>200.000000</td>\n",
              "      <td>200.000000</td>\n",
              "    </tr>\n",
              "    <tr>\n",
              "      <th>mean</th>\n",
              "      <td>25.500000</td>\n",
              "      <td>15.583000</td>\n",
              "      <td>12.73850</td>\n",
              "      <td>32.105500</td>\n",
              "      <td>36.414500</td>\n",
              "      <td>14.030500</td>\n",
              "    </tr>\n",
              "    <tr>\n",
              "      <th>std</th>\n",
              "      <td>14.467083</td>\n",
              "      <td>3.495325</td>\n",
              "      <td>2.57334</td>\n",
              "      <td>7.118983</td>\n",
              "      <td>7.871955</td>\n",
              "      <td>3.424772</td>\n",
              "    </tr>\n",
              "    <tr>\n",
              "      <th>min</th>\n",
              "      <td>1.000000</td>\n",
              "      <td>7.200000</td>\n",
              "      <td>6.50000</td>\n",
              "      <td>14.700000</td>\n",
              "      <td>17.100000</td>\n",
              "      <td>6.100000</td>\n",
              "    </tr>\n",
              "    <tr>\n",
              "      <th>25%</th>\n",
              "      <td>13.000000</td>\n",
              "      <td>12.900000</td>\n",
              "      <td>11.00000</td>\n",
              "      <td>27.275000</td>\n",
              "      <td>31.500000</td>\n",
              "      <td>11.400000</td>\n",
              "    </tr>\n",
              "    <tr>\n",
              "      <th>50%</th>\n",
              "      <td>25.500000</td>\n",
              "      <td>15.550000</td>\n",
              "      <td>12.80000</td>\n",
              "      <td>32.100000</td>\n",
              "      <td>36.800000</td>\n",
              "      <td>13.900000</td>\n",
              "    </tr>\n",
              "    <tr>\n",
              "      <th>75%</th>\n",
              "      <td>38.000000</td>\n",
              "      <td>18.050000</td>\n",
              "      <td>14.30000</td>\n",
              "      <td>37.225000</td>\n",
              "      <td>42.000000</td>\n",
              "      <td>16.600000</td>\n",
              "    </tr>\n",
              "    <tr>\n",
              "      <th>max</th>\n",
              "      <td>50.000000</td>\n",
              "      <td>23.100000</td>\n",
              "      <td>20.20000</td>\n",
              "      <td>47.600000</td>\n",
              "      <td>54.600000</td>\n",
              "      <td>21.600000</td>\n",
              "    </tr>\n",
              "  </tbody>\n",
              "</table>\n",
              "</div>\n",
              "    <div class=\"colab-df-buttons\">\n",
              "\n",
              "  <div class=\"colab-df-container\">\n",
              "    <button class=\"colab-df-convert\" onclick=\"convertToInteractive('df-6d718184-ec4d-4f4a-9b4e-75007316c130')\"\n",
              "            title=\"Convert this dataframe to an interactive table.\"\n",
              "            style=\"display:none;\">\n",
              "\n",
              "  <svg xmlns=\"http://www.w3.org/2000/svg\" height=\"24px\" viewBox=\"0 -960 960 960\">\n",
              "    <path d=\"M120-120v-720h720v720H120Zm60-500h600v-160H180v160Zm220 220h160v-160H400v160Zm0 220h160v-160H400v160ZM180-400h160v-160H180v160Zm440 0h160v-160H620v160ZM180-180h160v-160H180v160Zm440 0h160v-160H620v160Z\"/>\n",
              "  </svg>\n",
              "    </button>\n",
              "\n",
              "  <style>\n",
              "    .colab-df-container {\n",
              "      display:flex;\n",
              "      gap: 12px;\n",
              "    }\n",
              "\n",
              "    .colab-df-convert {\n",
              "      background-color: #E8F0FE;\n",
              "      border: none;\n",
              "      border-radius: 50%;\n",
              "      cursor: pointer;\n",
              "      display: none;\n",
              "      fill: #1967D2;\n",
              "      height: 32px;\n",
              "      padding: 0 0 0 0;\n",
              "      width: 32px;\n",
              "    }\n",
              "\n",
              "    .colab-df-convert:hover {\n",
              "      background-color: #E2EBFA;\n",
              "      box-shadow: 0px 1px 2px rgba(60, 64, 67, 0.3), 0px 1px 3px 1px rgba(60, 64, 67, 0.15);\n",
              "      fill: #174EA6;\n",
              "    }\n",
              "\n",
              "    .colab-df-buttons div {\n",
              "      margin-bottom: 4px;\n",
              "    }\n",
              "\n",
              "    [theme=dark] .colab-df-convert {\n",
              "      background-color: #3B4455;\n",
              "      fill: #D2E3FC;\n",
              "    }\n",
              "\n",
              "    [theme=dark] .colab-df-convert:hover {\n",
              "      background-color: #434B5C;\n",
              "      box-shadow: 0px 1px 3px 1px rgba(0, 0, 0, 0.15);\n",
              "      filter: drop-shadow(0px 1px 2px rgba(0, 0, 0, 0.3));\n",
              "      fill: #FFFFFF;\n",
              "    }\n",
              "  </style>\n",
              "\n",
              "    <script>\n",
              "      const buttonEl =\n",
              "        document.querySelector('#df-6d718184-ec4d-4f4a-9b4e-75007316c130 button.colab-df-convert');\n",
              "      buttonEl.style.display =\n",
              "        google.colab.kernel.accessAllowed ? 'block' : 'none';\n",
              "\n",
              "      async function convertToInteractive(key) {\n",
              "        const element = document.querySelector('#df-6d718184-ec4d-4f4a-9b4e-75007316c130');\n",
              "        const dataTable =\n",
              "          await google.colab.kernel.invokeFunction('convertToInteractive',\n",
              "                                                    [key], {});\n",
              "        if (!dataTable) return;\n",
              "\n",
              "        const docLinkHtml = 'Like what you see? Visit the ' +\n",
              "          '<a target=\"_blank\" href=https://colab.research.google.com/notebooks/data_table.ipynb>data table notebook</a>'\n",
              "          + ' to learn more about interactive tables.';\n",
              "        element.innerHTML = '';\n",
              "        dataTable['output_type'] = 'display_data';\n",
              "        await google.colab.output.renderOutput(dataTable, element);\n",
              "        const docLink = document.createElement('div');\n",
              "        docLink.innerHTML = docLinkHtml;\n",
              "        element.appendChild(docLink);\n",
              "      }\n",
              "    </script>\n",
              "  </div>\n",
              "\n",
              "\n",
              "<div id=\"df-c6d6b56f-679d-4682-829c-02e7ec8512da\">\n",
              "  <button class=\"colab-df-quickchart\" onclick=\"quickchart('df-c6d6b56f-679d-4682-829c-02e7ec8512da')\"\n",
              "            title=\"Suggest charts.\"\n",
              "            style=\"display:none;\">\n",
              "\n",
              "<svg xmlns=\"http://www.w3.org/2000/svg\" height=\"24px\"viewBox=\"0 0 24 24\"\n",
              "     width=\"24px\">\n",
              "    <g>\n",
              "        <path d=\"M19 3H5c-1.1 0-2 .9-2 2v14c0 1.1.9 2 2 2h14c1.1 0 2-.9 2-2V5c0-1.1-.9-2-2-2zM9 17H7v-7h2v7zm4 0h-2V7h2v10zm4 0h-2v-4h2v4z\"/>\n",
              "    </g>\n",
              "</svg>\n",
              "  </button>\n",
              "\n",
              "<style>\n",
              "  .colab-df-quickchart {\n",
              "      --bg-color: #E8F0FE;\n",
              "      --fill-color: #1967D2;\n",
              "      --hover-bg-color: #E2EBFA;\n",
              "      --hover-fill-color: #174EA6;\n",
              "      --disabled-fill-color: #AAA;\n",
              "      --disabled-bg-color: #DDD;\n",
              "  }\n",
              "\n",
              "  [theme=dark] .colab-df-quickchart {\n",
              "      --bg-color: #3B4455;\n",
              "      --fill-color: #D2E3FC;\n",
              "      --hover-bg-color: #434B5C;\n",
              "      --hover-fill-color: #FFFFFF;\n",
              "      --disabled-bg-color: #3B4455;\n",
              "      --disabled-fill-color: #666;\n",
              "  }\n",
              "\n",
              "  .colab-df-quickchart {\n",
              "    background-color: var(--bg-color);\n",
              "    border: none;\n",
              "    border-radius: 50%;\n",
              "    cursor: pointer;\n",
              "    display: none;\n",
              "    fill: var(--fill-color);\n",
              "    height: 32px;\n",
              "    padding: 0;\n",
              "    width: 32px;\n",
              "  }\n",
              "\n",
              "  .colab-df-quickchart:hover {\n",
              "    background-color: var(--hover-bg-color);\n",
              "    box-shadow: 0 1px 2px rgba(60, 64, 67, 0.3), 0 1px 3px 1px rgba(60, 64, 67, 0.15);\n",
              "    fill: var(--button-hover-fill-color);\n",
              "  }\n",
              "\n",
              "  .colab-df-quickchart-complete:disabled,\n",
              "  .colab-df-quickchart-complete:disabled:hover {\n",
              "    background-color: var(--disabled-bg-color);\n",
              "    fill: var(--disabled-fill-color);\n",
              "    box-shadow: none;\n",
              "  }\n",
              "\n",
              "  .colab-df-spinner {\n",
              "    border: 2px solid var(--fill-color);\n",
              "    border-color: transparent;\n",
              "    border-bottom-color: var(--fill-color);\n",
              "    animation:\n",
              "      spin 1s steps(1) infinite;\n",
              "  }\n",
              "\n",
              "  @keyframes spin {\n",
              "    0% {\n",
              "      border-color: transparent;\n",
              "      border-bottom-color: var(--fill-color);\n",
              "      border-left-color: var(--fill-color);\n",
              "    }\n",
              "    20% {\n",
              "      border-color: transparent;\n",
              "      border-left-color: var(--fill-color);\n",
              "      border-top-color: var(--fill-color);\n",
              "    }\n",
              "    30% {\n",
              "      border-color: transparent;\n",
              "      border-left-color: var(--fill-color);\n",
              "      border-top-color: var(--fill-color);\n",
              "      border-right-color: var(--fill-color);\n",
              "    }\n",
              "    40% {\n",
              "      border-color: transparent;\n",
              "      border-right-color: var(--fill-color);\n",
              "      border-top-color: var(--fill-color);\n",
              "    }\n",
              "    60% {\n",
              "      border-color: transparent;\n",
              "      border-right-color: var(--fill-color);\n",
              "    }\n",
              "    80% {\n",
              "      border-color: transparent;\n",
              "      border-right-color: var(--fill-color);\n",
              "      border-bottom-color: var(--fill-color);\n",
              "    }\n",
              "    90% {\n",
              "      border-color: transparent;\n",
              "      border-bottom-color: var(--fill-color);\n",
              "    }\n",
              "  }\n",
              "</style>\n",
              "\n",
              "  <script>\n",
              "    async function quickchart(key) {\n",
              "      const quickchartButtonEl =\n",
              "        document.querySelector('#' + key + ' button');\n",
              "      quickchartButtonEl.disabled = true;  // To prevent multiple clicks.\n",
              "      quickchartButtonEl.classList.add('colab-df-spinner');\n",
              "      try {\n",
              "        const charts = await google.colab.kernel.invokeFunction(\n",
              "            'suggestCharts', [key], {});\n",
              "      } catch (error) {\n",
              "        console.error('Error during call to suggestCharts:', error);\n",
              "      }\n",
              "      quickchartButtonEl.classList.remove('colab-df-spinner');\n",
              "      quickchartButtonEl.classList.add('colab-df-quickchart-complete');\n",
              "    }\n",
              "    (() => {\n",
              "      let quickchartButtonEl =\n",
              "        document.querySelector('#df-c6d6b56f-679d-4682-829c-02e7ec8512da button');\n",
              "      quickchartButtonEl.style.display =\n",
              "        google.colab.kernel.accessAllowed ? 'block' : 'none';\n",
              "    })();\n",
              "  </script>\n",
              "</div>\n",
              "    </div>\n",
              "  </div>\n"
            ]
          },
          "metadata": {},
          "execution_count": 17
        }
      ]
    },
    {
      "cell_type": "markdown",
      "source": [
        "## Se puede observar todo lo siguiente:\n",
        "- Nuestro target sp es binaria y categórica (Clasificación).\n",
        "- Tenemos 7 características (features).\n",
        "- Tenemos 200 instancias.\n",
        "- La varibale o característica sex es una variable categórica nominal y binaria.\n",
        "- El resto de características son numéricas o cuantitativas.\n",
        "- Se puede observar también que es un dataset balanceado (100 B y 100 O, cada uno con 50 M y 50 F)"
      ],
      "metadata": {
        "id": "FzdvR94C_zC-"
      }
    },
    {
      "cell_type": "markdown",
      "source": [
        "## Procedemos a realizar lo siguiente:\n",
        "\n",
        "- Debido a que no es posible plotear todas las características para la elección de un algoritmo obtamos por reducir la dimensionalidad para tratar de obtener un mejor entendimiento de los datos así como una mejor toma de decisiones, por lo que procederemos a utilizar PCA.\n",
        "- Para un primer análisis proponemos NO tomar en cuenta las características sex e index, esperando obtener buenos resultados."
      ],
      "metadata": {
        "id": "UThdhYMUP7gJ"
      }
    },
    {
      "cell_type": "markdown",
      "source": [
        "# Primer Análisis\n"
      ],
      "metadata": {
        "id": "r2Fb6qIqi3Xb"
      }
    },
    {
      "cell_type": "markdown",
      "source": [
        "### PCA"
      ],
      "metadata": {
        "id": "9l_AL6wFUmwf"
      }
    },
    {
      "cell_type": "markdown",
      "source": [
        "Para obtener los eigenvalores (varianza de cada componente) se recomienda escalar cada una de las variables."
      ],
      "metadata": {
        "id": "lmPZTyM0wu2A"
      }
    },
    {
      "cell_type": "code",
      "source": [
        "from sklearn.decomposition import PCA\n",
        "from sklearn.preprocessing import StandardScaler #Escalamiento"
      ],
      "metadata": {
        "id": "uZYhp6cRtdAJ"
      },
      "execution_count": null,
      "outputs": []
    },
    {
      "cell_type": "code",
      "source": [
        "ss = StandardScaler()"
      ],
      "metadata": {
        "id": "SGSkUPKby0zo"
      },
      "execution_count": null,
      "outputs": []
    },
    {
      "cell_type": "code",
      "source": [
        "crabs_copy[['BD', 'CW', 'CL', 'RW', 'FL']] = ss.fit_transform(crabs_copy[['BD', 'CW', 'CL', 'RW', 'FL']])\n",
        "crabs_copy"
      ],
      "metadata": {
        "id": "CyxAy2MPy8TQ",
        "colab": {
          "base_uri": "https://localhost:8080/",
          "height": 423
        },
        "outputId": "93128226-2308-4011-8cdb-6f3356238e07"
      },
      "execution_count": null,
      "outputs": [
        {
          "output_type": "execute_result",
          "data": {
            "text/plain": [
              "    sp sex  index        FL        RW        CL        CW        BD\n",
              "0    B   M      1 -2.146232 -2.352450 -2.253926 -2.217772 -2.057989\n",
              "1    B   M      2 -1.945462 -1.962875 -1.972282 -1.988538 -1.940899\n",
              "2    B   M      3 -1.830736 -1.923917 -1.845543 -1.784775 -1.853083\n",
              "3    B   M      4 -1.716010 -1.884960 -1.690638 -1.695629 -1.706721\n",
              "4    B   M      5 -1.658647 -1.846002 -1.662474 -1.708364 -1.706721\n",
              "..  ..  ..    ...       ...       ...       ...       ...       ...\n",
              "195  O   F     46  1.668399  2.049750  1.280706  1.246203  1.366870\n",
              "196  O   F     47  1.754443  1.699132  1.351117  1.373555  1.630320\n",
              "197  O   F     48  1.811806  1.738090  1.477856  1.399026  1.601048\n",
              "198  O   F     49  1.983895  1.738090  1.534185  1.564583  1.688865\n",
              "199  O   F     50  2.155984  2.906815  1.984816  2.048521  2.069405\n",
              "\n",
              "[200 rows x 8 columns]"
            ],
            "text/html": [
              "\n",
              "  <div id=\"df-089d450d-22a4-4810-949b-aa3cd3b2ecae\" class=\"colab-df-container\">\n",
              "    <div>\n",
              "<style scoped>\n",
              "    .dataframe tbody tr th:only-of-type {\n",
              "        vertical-align: middle;\n",
              "    }\n",
              "\n",
              "    .dataframe tbody tr th {\n",
              "        vertical-align: top;\n",
              "    }\n",
              "\n",
              "    .dataframe thead th {\n",
              "        text-align: right;\n",
              "    }\n",
              "</style>\n",
              "<table border=\"1\" class=\"dataframe\">\n",
              "  <thead>\n",
              "    <tr style=\"text-align: right;\">\n",
              "      <th></th>\n",
              "      <th>sp</th>\n",
              "      <th>sex</th>\n",
              "      <th>index</th>\n",
              "      <th>FL</th>\n",
              "      <th>RW</th>\n",
              "      <th>CL</th>\n",
              "      <th>CW</th>\n",
              "      <th>BD</th>\n",
              "    </tr>\n",
              "  </thead>\n",
              "  <tbody>\n",
              "    <tr>\n",
              "      <th>0</th>\n",
              "      <td>B</td>\n",
              "      <td>M</td>\n",
              "      <td>1</td>\n",
              "      <td>-2.146232</td>\n",
              "      <td>-2.352450</td>\n",
              "      <td>-2.253926</td>\n",
              "      <td>-2.217772</td>\n",
              "      <td>-2.057989</td>\n",
              "    </tr>\n",
              "    <tr>\n",
              "      <th>1</th>\n",
              "      <td>B</td>\n",
              "      <td>M</td>\n",
              "      <td>2</td>\n",
              "      <td>-1.945462</td>\n",
              "      <td>-1.962875</td>\n",
              "      <td>-1.972282</td>\n",
              "      <td>-1.988538</td>\n",
              "      <td>-1.940899</td>\n",
              "    </tr>\n",
              "    <tr>\n",
              "      <th>2</th>\n",
              "      <td>B</td>\n",
              "      <td>M</td>\n",
              "      <td>3</td>\n",
              "      <td>-1.830736</td>\n",
              "      <td>-1.923917</td>\n",
              "      <td>-1.845543</td>\n",
              "      <td>-1.784775</td>\n",
              "      <td>-1.853083</td>\n",
              "    </tr>\n",
              "    <tr>\n",
              "      <th>3</th>\n",
              "      <td>B</td>\n",
              "      <td>M</td>\n",
              "      <td>4</td>\n",
              "      <td>-1.716010</td>\n",
              "      <td>-1.884960</td>\n",
              "      <td>-1.690638</td>\n",
              "      <td>-1.695629</td>\n",
              "      <td>-1.706721</td>\n",
              "    </tr>\n",
              "    <tr>\n",
              "      <th>4</th>\n",
              "      <td>B</td>\n",
              "      <td>M</td>\n",
              "      <td>5</td>\n",
              "      <td>-1.658647</td>\n",
              "      <td>-1.846002</td>\n",
              "      <td>-1.662474</td>\n",
              "      <td>-1.708364</td>\n",
              "      <td>-1.706721</td>\n",
              "    </tr>\n",
              "    <tr>\n",
              "      <th>...</th>\n",
              "      <td>...</td>\n",
              "      <td>...</td>\n",
              "      <td>...</td>\n",
              "      <td>...</td>\n",
              "      <td>...</td>\n",
              "      <td>...</td>\n",
              "      <td>...</td>\n",
              "      <td>...</td>\n",
              "    </tr>\n",
              "    <tr>\n",
              "      <th>195</th>\n",
              "      <td>O</td>\n",
              "      <td>F</td>\n",
              "      <td>46</td>\n",
              "      <td>1.668399</td>\n",
              "      <td>2.049750</td>\n",
              "      <td>1.280706</td>\n",
              "      <td>1.246203</td>\n",
              "      <td>1.366870</td>\n",
              "    </tr>\n",
              "    <tr>\n",
              "      <th>196</th>\n",
              "      <td>O</td>\n",
              "      <td>F</td>\n",
              "      <td>47</td>\n",
              "      <td>1.754443</td>\n",
              "      <td>1.699132</td>\n",
              "      <td>1.351117</td>\n",
              "      <td>1.373555</td>\n",
              "      <td>1.630320</td>\n",
              "    </tr>\n",
              "    <tr>\n",
              "      <th>197</th>\n",
              "      <td>O</td>\n",
              "      <td>F</td>\n",
              "      <td>48</td>\n",
              "      <td>1.811806</td>\n",
              "      <td>1.738090</td>\n",
              "      <td>1.477856</td>\n",
              "      <td>1.399026</td>\n",
              "      <td>1.601048</td>\n",
              "    </tr>\n",
              "    <tr>\n",
              "      <th>198</th>\n",
              "      <td>O</td>\n",
              "      <td>F</td>\n",
              "      <td>49</td>\n",
              "      <td>1.983895</td>\n",
              "      <td>1.738090</td>\n",
              "      <td>1.534185</td>\n",
              "      <td>1.564583</td>\n",
              "      <td>1.688865</td>\n",
              "    </tr>\n",
              "    <tr>\n",
              "      <th>199</th>\n",
              "      <td>O</td>\n",
              "      <td>F</td>\n",
              "      <td>50</td>\n",
              "      <td>2.155984</td>\n",
              "      <td>2.906815</td>\n",
              "      <td>1.984816</td>\n",
              "      <td>2.048521</td>\n",
              "      <td>2.069405</td>\n",
              "    </tr>\n",
              "  </tbody>\n",
              "</table>\n",
              "<p>200 rows × 8 columns</p>\n",
              "</div>\n",
              "    <div class=\"colab-df-buttons\">\n",
              "\n",
              "  <div class=\"colab-df-container\">\n",
              "    <button class=\"colab-df-convert\" onclick=\"convertToInteractive('df-089d450d-22a4-4810-949b-aa3cd3b2ecae')\"\n",
              "            title=\"Convert this dataframe to an interactive table.\"\n",
              "            style=\"display:none;\">\n",
              "\n",
              "  <svg xmlns=\"http://www.w3.org/2000/svg\" height=\"24px\" viewBox=\"0 -960 960 960\">\n",
              "    <path d=\"M120-120v-720h720v720H120Zm60-500h600v-160H180v160Zm220 220h160v-160H400v160Zm0 220h160v-160H400v160ZM180-400h160v-160H180v160Zm440 0h160v-160H620v160ZM180-180h160v-160H180v160Zm440 0h160v-160H620v160Z\"/>\n",
              "  </svg>\n",
              "    </button>\n",
              "\n",
              "  <style>\n",
              "    .colab-df-container {\n",
              "      display:flex;\n",
              "      gap: 12px;\n",
              "    }\n",
              "\n",
              "    .colab-df-convert {\n",
              "      background-color: #E8F0FE;\n",
              "      border: none;\n",
              "      border-radius: 50%;\n",
              "      cursor: pointer;\n",
              "      display: none;\n",
              "      fill: #1967D2;\n",
              "      height: 32px;\n",
              "      padding: 0 0 0 0;\n",
              "      width: 32px;\n",
              "    }\n",
              "\n",
              "    .colab-df-convert:hover {\n",
              "      background-color: #E2EBFA;\n",
              "      box-shadow: 0px 1px 2px rgba(60, 64, 67, 0.3), 0px 1px 3px 1px rgba(60, 64, 67, 0.15);\n",
              "      fill: #174EA6;\n",
              "    }\n",
              "\n",
              "    .colab-df-buttons div {\n",
              "      margin-bottom: 4px;\n",
              "    }\n",
              "\n",
              "    [theme=dark] .colab-df-convert {\n",
              "      background-color: #3B4455;\n",
              "      fill: #D2E3FC;\n",
              "    }\n",
              "\n",
              "    [theme=dark] .colab-df-convert:hover {\n",
              "      background-color: #434B5C;\n",
              "      box-shadow: 0px 1px 3px 1px rgba(0, 0, 0, 0.15);\n",
              "      filter: drop-shadow(0px 1px 2px rgba(0, 0, 0, 0.3));\n",
              "      fill: #FFFFFF;\n",
              "    }\n",
              "  </style>\n",
              "\n",
              "    <script>\n",
              "      const buttonEl =\n",
              "        document.querySelector('#df-089d450d-22a4-4810-949b-aa3cd3b2ecae button.colab-df-convert');\n",
              "      buttonEl.style.display =\n",
              "        google.colab.kernel.accessAllowed ? 'block' : 'none';\n",
              "\n",
              "      async function convertToInteractive(key) {\n",
              "        const element = document.querySelector('#df-089d450d-22a4-4810-949b-aa3cd3b2ecae');\n",
              "        const dataTable =\n",
              "          await google.colab.kernel.invokeFunction('convertToInteractive',\n",
              "                                                    [key], {});\n",
              "        if (!dataTable) return;\n",
              "\n",
              "        const docLinkHtml = 'Like what you see? Visit the ' +\n",
              "          '<a target=\"_blank\" href=https://colab.research.google.com/notebooks/data_table.ipynb>data table notebook</a>'\n",
              "          + ' to learn more about interactive tables.';\n",
              "        element.innerHTML = '';\n",
              "        dataTable['output_type'] = 'display_data';\n",
              "        await google.colab.output.renderOutput(dataTable, element);\n",
              "        const docLink = document.createElement('div');\n",
              "        docLink.innerHTML = docLinkHtml;\n",
              "        element.appendChild(docLink);\n",
              "      }\n",
              "    </script>\n",
              "  </div>\n",
              "\n",
              "\n",
              "<div id=\"df-d7546277-88a7-4c97-80ab-2027b39f468e\">\n",
              "  <button class=\"colab-df-quickchart\" onclick=\"quickchart('df-d7546277-88a7-4c97-80ab-2027b39f468e')\"\n",
              "            title=\"Suggest charts.\"\n",
              "            style=\"display:none;\">\n",
              "\n",
              "<svg xmlns=\"http://www.w3.org/2000/svg\" height=\"24px\"viewBox=\"0 0 24 24\"\n",
              "     width=\"24px\">\n",
              "    <g>\n",
              "        <path d=\"M19 3H5c-1.1 0-2 .9-2 2v14c0 1.1.9 2 2 2h14c1.1 0 2-.9 2-2V5c0-1.1-.9-2-2-2zM9 17H7v-7h2v7zm4 0h-2V7h2v10zm4 0h-2v-4h2v4z\"/>\n",
              "    </g>\n",
              "</svg>\n",
              "  </button>\n",
              "\n",
              "<style>\n",
              "  .colab-df-quickchart {\n",
              "      --bg-color: #E8F0FE;\n",
              "      --fill-color: #1967D2;\n",
              "      --hover-bg-color: #E2EBFA;\n",
              "      --hover-fill-color: #174EA6;\n",
              "      --disabled-fill-color: #AAA;\n",
              "      --disabled-bg-color: #DDD;\n",
              "  }\n",
              "\n",
              "  [theme=dark] .colab-df-quickchart {\n",
              "      --bg-color: #3B4455;\n",
              "      --fill-color: #D2E3FC;\n",
              "      --hover-bg-color: #434B5C;\n",
              "      --hover-fill-color: #FFFFFF;\n",
              "      --disabled-bg-color: #3B4455;\n",
              "      --disabled-fill-color: #666;\n",
              "  }\n",
              "\n",
              "  .colab-df-quickchart {\n",
              "    background-color: var(--bg-color);\n",
              "    border: none;\n",
              "    border-radius: 50%;\n",
              "    cursor: pointer;\n",
              "    display: none;\n",
              "    fill: var(--fill-color);\n",
              "    height: 32px;\n",
              "    padding: 0;\n",
              "    width: 32px;\n",
              "  }\n",
              "\n",
              "  .colab-df-quickchart:hover {\n",
              "    background-color: var(--hover-bg-color);\n",
              "    box-shadow: 0 1px 2px rgba(60, 64, 67, 0.3), 0 1px 3px 1px rgba(60, 64, 67, 0.15);\n",
              "    fill: var(--button-hover-fill-color);\n",
              "  }\n",
              "\n",
              "  .colab-df-quickchart-complete:disabled,\n",
              "  .colab-df-quickchart-complete:disabled:hover {\n",
              "    background-color: var(--disabled-bg-color);\n",
              "    fill: var(--disabled-fill-color);\n",
              "    box-shadow: none;\n",
              "  }\n",
              "\n",
              "  .colab-df-spinner {\n",
              "    border: 2px solid var(--fill-color);\n",
              "    border-color: transparent;\n",
              "    border-bottom-color: var(--fill-color);\n",
              "    animation:\n",
              "      spin 1s steps(1) infinite;\n",
              "  }\n",
              "\n",
              "  @keyframes spin {\n",
              "    0% {\n",
              "      border-color: transparent;\n",
              "      border-bottom-color: var(--fill-color);\n",
              "      border-left-color: var(--fill-color);\n",
              "    }\n",
              "    20% {\n",
              "      border-color: transparent;\n",
              "      border-left-color: var(--fill-color);\n",
              "      border-top-color: var(--fill-color);\n",
              "    }\n",
              "    30% {\n",
              "      border-color: transparent;\n",
              "      border-left-color: var(--fill-color);\n",
              "      border-top-color: var(--fill-color);\n",
              "      border-right-color: var(--fill-color);\n",
              "    }\n",
              "    40% {\n",
              "      border-color: transparent;\n",
              "      border-right-color: var(--fill-color);\n",
              "      border-top-color: var(--fill-color);\n",
              "    }\n",
              "    60% {\n",
              "      border-color: transparent;\n",
              "      border-right-color: var(--fill-color);\n",
              "    }\n",
              "    80% {\n",
              "      border-color: transparent;\n",
              "      border-right-color: var(--fill-color);\n",
              "      border-bottom-color: var(--fill-color);\n",
              "    }\n",
              "    90% {\n",
              "      border-color: transparent;\n",
              "      border-bottom-color: var(--fill-color);\n",
              "    }\n",
              "  }\n",
              "</style>\n",
              "\n",
              "  <script>\n",
              "    async function quickchart(key) {\n",
              "      const quickchartButtonEl =\n",
              "        document.querySelector('#' + key + ' button');\n",
              "      quickchartButtonEl.disabled = true;  // To prevent multiple clicks.\n",
              "      quickchartButtonEl.classList.add('colab-df-spinner');\n",
              "      try {\n",
              "        const charts = await google.colab.kernel.invokeFunction(\n",
              "            'suggestCharts', [key], {});\n",
              "      } catch (error) {\n",
              "        console.error('Error during call to suggestCharts:', error);\n",
              "      }\n",
              "      quickchartButtonEl.classList.remove('colab-df-spinner');\n",
              "      quickchartButtonEl.classList.add('colab-df-quickchart-complete');\n",
              "    }\n",
              "    (() => {\n",
              "      let quickchartButtonEl =\n",
              "        document.querySelector('#df-d7546277-88a7-4c97-80ab-2027b39f468e button');\n",
              "      quickchartButtonEl.style.display =\n",
              "        google.colab.kernel.accessAllowed ? 'block' : 'none';\n",
              "    })();\n",
              "  </script>\n",
              "</div>\n",
              "    </div>\n",
              "  </div>\n"
            ]
          },
          "metadata": {},
          "execution_count": 20
        }
      ]
    },
    {
      "cell_type": "code",
      "source": [
        "#Ploteamos el número de componentes así como la varianza acumulada.\n",
        "pca = PCA().fit(crabs_copy[['BD', 'CW', 'CL', 'RW', 'FL']])\n",
        "plt.plot(np.cumsum(pca.explained_variance_ratio_))\n",
        "plt.xlabel('number of components')\n",
        "plt.ylabel('cumulative explained variance')"
      ],
      "metadata": {
        "colab": {
          "base_uri": "https://localhost:8080/",
          "height": 466
        },
        "id": "bHqvRaG4WKmk",
        "outputId": "75858ed4-0ba0-4748-dc07-ba54a11cdc7a"
      },
      "execution_count": null,
      "outputs": [
        {
          "output_type": "execute_result",
          "data": {
            "text/plain": [
              "Text(0, 0.5, 'cumulative explained variance')"
            ]
          },
          "metadata": {},
          "execution_count": 21
        },
        {
          "output_type": "display_data",
          "data": {
            "text/plain": [
              "<Figure size 640x480 with 1 Axes>"
            ],
            "image/png": "[encoded data removed]"
          },
          "metadata": {}
        }
      ]
    },
    {
      "cell_type": "markdown",
      "source": [
        "Utilizaremos 3 componentes principales\n",
        "\n"
      ],
      "metadata": {
        "id": "dNvL3_d3i9sK"
      }
    },
    {
      "cell_type": "code",
      "source": [
        "pca3 = PCA(n_components=3)\n",
        "pca_3 = pca3.fit_transform(crabs_copy[['BD', 'CW', 'CL', 'RW', 'FL']])"
      ],
      "metadata": {
        "id": "uVd5vyI_VrLm"
      },
      "execution_count": null,
      "outputs": []
    },
    {
      "cell_type": "code",
      "source": [
        "pca_3"
      ],
      "metadata": {
        "colab": {
          "base_uri": "https://localhost:8080/"
        },
        "id": "XigbFq84VTYL",
        "outputId": "a7f1fe0c-cd2a-4fdd-9f72-930f7198253b"
      },
      "execution_count": null,
      "outputs": [
        {
          "output_type": "execute_result",
          "data": {
            "text/plain": [
              "array([[ 4.92757315e+00, -2.68445304e-01, -1.22257753e-01],\n",
              "       [ 4.38617639e+00, -9.40735865e-02, -3.92318876e-02],\n",
              "       [ 4.12866384e+00, -1.68875924e-01,  3.36436339e-02],\n",
              "       [ 3.88368111e+00, -2.46008318e-01,  1.45010217e-02],\n",
              "       [ 3.83405492e+00, -2.24166269e-01, -1.50673107e-02],\n",
              "       [ 2.95295511e+00, -2.20020733e-01,  3.84281487e-02],\n",
              "       [ 2.67844235e+00,  3.90230788e-02,  8.17102623e-02],\n",
              "       [ 2.54843778e+00, -3.63383179e-01,  6.25916514e-02],\n",
              "       [ 2.58517895e+00, -1.17037655e-01,  6.23383966e-02],\n",
              "       [ 2.20585873e+00,  7.91663049e-02,  1.56973513e-01],\n",
              "       [ 1.75857717e+00, -1.02981368e-02,  3.02371578e-01],\n",
              "       [ 1.68388431e+00,  3.82340303e-02,  1.93104441e-01],\n",
              "       [ 1.74282949e+00, -3.62089809e-01,  1.98638250e-01],\n",
              "       [ 1.77573850e+00, -2.44730446e-01,  2.20492524e-01],\n",
              "       [ 1.65026614e+00, -8.20012474e-03,  1.94577108e-01],\n",
              "       [ 1.64056281e+00,  2.83574124e-02,  5.19016086e-02],\n",
              "       [ 1.56438534e+00, -1.73623511e-01,  2.48880297e-01],\n",
              "       [ 1.47581648e+00, -9.02085974e-02,  2.37007254e-01],\n",
              "       [ 1.44098122e+00, -1.46732285e-02,  1.64406277e-01],\n",
              "       [ 1.11074684e+00, -1.76130471e-01,  1.13448376e-01],\n",
              "       [ 6.35856632e-01, -1.93317096e-01,  2.51469191e-01],\n",
              "       [ 4.24937531e-01, -4.30858716e-01,  1.75637590e-01],\n",
              "       [ 5.37722022e-01, -5.29025157e-01,  1.55934791e-01],\n",
              "       [ 3.12960262e-01, -3.86139480e-01,  2.26263786e-01],\n",
              "       [ 2.01969552e-01, -2.70035545e-01,  2.23168026e-01],\n",
              "       [ 1.84174275e-01, -1.88895319e-01,  1.43379960e-01],\n",
              "       [ 1.17640671e-01, -3.46595294e-01,  2.08545352e-01],\n",
              "       [-5.13075476e-01, -3.18322209e-01,  4.04662995e-01],\n",
              "       [-3.20760847e-01, -1.67821550e-01,  2.18753863e-01],\n",
              "       [-1.82638802e-01, -5.70811782e-01,  1.56817936e-01],\n",
              "       [-7.22301476e-01, -3.32179370e-01,  1.83028915e-01],\n",
              "       [-9.06685063e-01, -2.02519213e-01,  3.40133150e-01],\n",
              "       [-6.82072955e-01, -3.44203445e-01,  3.03042750e-01],\n",
              "       [-8.42772891e-01, -2.90871266e-01,  3.29459010e-01],\n",
              "       [-1.15755685e+00, -2.28062668e-01,  5.77896645e-01],\n",
              "       [-8.53572760e-01, -3.72308263e-01,  3.28354862e-01],\n",
              "       [-1.14759165e+00, -3.52710201e-01,  3.46958414e-01],\n",
              "       [-9.09780186e-01, -4.81753470e-01,  2.81150432e-01],\n",
              "       [-1.00588636e+00, -4.94483286e-01,  2.21527796e-01],\n",
              "       [-1.39063243e+00, -3.37199235e-01,  3.50637405e-01],\n",
              "       [-1.56360112e+00, -3.69553887e-01,  3.85795027e-01],\n",
              "       [-1.84812580e+00, -3.04473431e-01,  3.05823877e-01],\n",
              "       [-1.67174978e+00, -3.78464631e-01,  3.28141807e-01],\n",
              "       [-2.78632320e+00, -1.44025771e-02,  5.17355778e-01],\n",
              "       [-2.34375254e+00, -7.83192752e-01,  2.75731513e-01],\n",
              "       [-2.16534730e+00, -5.53711833e-01,  3.01532516e-01],\n",
              "       [-2.77813748e+00, -2.05807166e-01,  3.27738567e-01],\n",
              "       [-2.86520849e+00, -7.33235138e-01,  3.60023422e-01],\n",
              "       [-2.74525267e+00, -6.26415804e-01,  2.98034297e-01],\n",
              "       [-4.02512062e+00, -6.35927946e-01,  5.34361396e-01],\n",
              "       [ 5.39496779e+00, -1.36691236e-01, -8.83867165e-02],\n",
              "       [ 4.00147572e+00,  6.57068273e-02,  1.05371588e-01],\n",
              "       [ 4.16946833e+00, -2.26767429e-02, -3.80229630e-02],\n",
              "       [ 4.07364794e+00, -2.79290296e-02,  4.28343296e-02],\n",
              "       [ 3.97156345e+00, -7.11598318e-02,  3.03439048e-03],\n",
              "       [ 3.54664210e+00,  1.98336890e-02, -9.54480376e-03],\n",
              "       [ 3.43322716e+00,  1.48514077e-01,  6.18996825e-02],\n",
              "       [ 3.26515165e+00,  1.49904067e-01,  9.90074434e-03],\n",
              "       [ 3.23232423e+00,  2.31150767e-01,  1.49063168e-01],\n",
              "       [ 3.00541061e+00,  3.25719137e-02,  9.31417205e-02],\n",
              "       [ 3.08277110e+00,  2.13082012e-01,  1.30982782e-01],\n",
              "       [ 2.77693241e+00,  1.43388908e-01,  5.86119149e-02],\n",
              "       [ 2.22543642e+00,  3.02610573e-01,  2.00805590e-01],\n",
              "       [ 2.21945102e+00,  2.95329481e-01,  8.41301346e-02],\n",
              "       [ 2.30896399e+00,  5.18630342e-01,  3.21523860e-02],\n",
              "       [ 2.25404731e+00,  1.40095521e-01,  8.01232154e-02],\n",
              "       [ 1.86655218e+00,  2.95078478e-01,  1.69489197e-01],\n",
              "       [ 2.18143471e+00,  1.57641525e-01,  4.21073825e-02],\n",
              "       [ 1.98040836e+00,  2.21791930e-01,  3.89321900e-02],\n",
              "       [ 1.51020644e+00,  4.85879667e-01,  1.56763279e-01],\n",
              "       [ 1.43438086e+00,  2.20307598e-01,  4.35446624e-02],\n",
              "       [ 1.48791513e+00,  4.74560244e-01,  1.23902177e-01],\n",
              "       [ 1.31254906e+00,  3.79883016e-01,  1.90829630e-01],\n",
              "       [ 1.49048120e+00,  1.32518234e-01,  1.48117896e-01],\n",
              "       [ 1.42214466e+00,  1.49304217e-01,  2.38873890e-01],\n",
              "       [ 1.24919799e+00,  3.59499054e-01,  1.46558041e-01],\n",
              "       [ 1.19718366e+00,  1.63490134e-01,  1.59968869e-01],\n",
              "       [ 9.39179641e-01,  3.48246114e-01,  1.91759988e-01],\n",
              "       [ 5.18854277e-01,  3.44268557e-01,  1.60449521e-01],\n",
              "       [ 5.82858733e-01,  1.85001916e-01,  1.01904359e-01],\n",
              "       [ 4.54513852e-01,  4.40019692e-01,  2.14381853e-01],\n",
              "       [-9.94226792e-02,  4.00924033e-01,  1.20325750e-01],\n",
              "       [-2.65056259e-01,  4.87828976e-01,  2.11716461e-01],\n",
              "       [ 6.51129404e-02,  2.70741981e-01,  1.22128226e-01],\n",
              "       [-5.44548778e-02,  2.97631092e-01,  1.46679797e-01],\n",
              "       [ 3.69042440e-02,  4.81250855e-01,  2.09894134e-01],\n",
              "       [-5.33499938e-01,  3.93914323e-01,  2.30317990e-01],\n",
              "       [-3.16481866e-01,  4.78320948e-01,  2.58064994e-01],\n",
              "       [-1.26376700e-01,  1.83128651e-01,  1.71745461e-01],\n",
              "       [-4.68591952e-01,  2.21418577e-01,  1.77131224e-01],\n",
              "       [-2.42308099e-01,  3.94110191e-01,  2.38364294e-01],\n",
              "       [-6.56695572e-01,  5.26035974e-01,  3.06287316e-01],\n",
              "       [-4.33238847e-01,  2.91984395e-01,  2.17086326e-01],\n",
              "       [-9.48965395e-01,  5.04673981e-01,  2.40168377e-01],\n",
              "       [-8.37810073e-01,  6.71789915e-01,  3.45200483e-01],\n",
              "       [-7.98912086e-01,  1.61677439e-01,  1.02498719e-01],\n",
              "       [-1.48824426e+00,  7.30176977e-01,  3.19871328e-01],\n",
              "       [-2.09938542e+00,  7.78582176e-01,  3.13983549e-01],\n",
              "       [-2.18032762e+00,  6.49399794e-01,  2.96624045e-01],\n",
              "       [-2.85476098e+00,  2.62151782e-01,  2.77064075e-01],\n",
              "       [ 4.69643249e+00, -2.82341521e-01, -3.32522194e-01],\n",
              "       [ 3.69553651e+00, -2.09694166e-01, -2.49651316e-01],\n",
              "       [ 3.47695675e+00, -1.35329679e-01, -2.86487269e-01],\n",
              "       [ 2.95235738e+00, -2.16477949e-01, -2.46191355e-01],\n",
              "       [ 2.54974239e+00, -2.20575642e-01, -3.81053971e-01],\n",
              "       [ 2.37565015e+00, -3.12297954e-01, -3.06227303e-01],\n",
              "       [ 1.84581498e+00, -1.49327867e-01, -2.20669132e-01],\n",
              "       [ 1.50560059e+00, -4.52116558e-02, -1.26016746e-01],\n",
              "       [ 1.73404271e+00, -3.15243292e-01, -2.23008398e-01],\n",
              "       [ 1.40950156e+00, -8.23512535e-02, -1.76378151e-01],\n",
              "       [ 9.62212230e-01, -9.21946154e-02, -1.21048172e-01],\n",
              "       [ 1.12199509e+00, -4.91436426e-01, -2.39619604e-01],\n",
              "       [ 1.15686729e+00, -4.28453167e-01, -1.95162781e-01],\n",
              "       [ 1.10539487e+00, -3.65740133e-01, -2.12686279e-01],\n",
              "       [ 1.17341932e+00, -3.69126027e-01, -1.93108008e-01],\n",
              "       [ 1.28655135e+00, -2.66266617e-01, -2.72430470e-01],\n",
              "       [ 9.16812512e-01, -2.01013793e-01, -2.04317288e-01],\n",
              "       [ 8.38032834e-01, -2.18977460e-01, -3.58388555e-02],\n",
              "       [ 9.56671594e-01, -2.49917903e-01, -2.46509884e-01],\n",
              "       [ 5.90405357e-01, -3.03298643e-01, -2.70694476e-01],\n",
              "       [ 5.02045673e-01, -3.03113547e-01, -1.68554238e-01],\n",
              "       [ 6.50333610e-01, -3.88316802e-01, -2.27970593e-01],\n",
              "       [ 2.05353696e-01, -1.39897933e-01, -2.44034522e-01],\n",
              "       [ 3.97194559e-02, -3.86233867e-01, -2.69296289e-01],\n",
              "       [ 1.94387903e-01, -3.92942315e-01, -3.81451807e-01],\n",
              "       [-7.21572143e-01, -4.03996275e-01, -1.15366340e-01],\n",
              "       [-9.64521429e-01, -4.39893770e-01, -1.27129680e-01],\n",
              "       [-4.90337589e-01, -5.39301732e-01, -2.86305518e-01],\n",
              "       [-7.88680118e-01, -3.89131513e-01, -2.86678839e-01],\n",
              "       [-1.04323366e+00, -6.02453648e-01, -2.33713395e-01],\n",
              "       [-1.21712729e+00, -5.10264902e-01, -9.04595666e-02],\n",
              "       [-1.40292720e+00, -3.87334980e-01, -1.56662991e-01],\n",
              "       [-1.70654455e+00, -4.09521503e-01,  9.24772562e-03],\n",
              "       [-1.66231076e+00, -5.15570860e-01, -1.68262412e-01],\n",
              "       [-1.61180146e+00, -4.81836528e-01, -1.76112266e-01],\n",
              "       [-1.43375861e+00, -3.50540486e-01, -3.17257837e-01],\n",
              "       [-1.57989176e+00, -4.64139500e-01, -3.25154174e-01],\n",
              "       [-1.95345073e+00, -4.81278961e-01, -1.05123554e-01],\n",
              "       [-2.05594015e+00, -3.86173676e-01, -1.94761983e-01],\n",
              "       [-2.22704498e+00, -3.40685004e-01, -8.43906477e-02],\n",
              "       [-2.27681513e+00, -6.55786042e-01, -1.55682942e-01],\n",
              "       [-2.92497332e+00, -6.83491412e-01, -1.73935585e-01],\n",
              "       [-3.09708094e+00, -4.93744093e-01, -1.43548402e-01],\n",
              "       [-3.75293251e+00, -6.10299204e-01, -9.07650437e-02],\n",
              "       [-3.72236765e+00, -6.33577022e-01, -5.88159064e-02],\n",
              "       [-3.32331860e+00, -6.83445471e-01, -2.21716297e-01],\n",
              "       [-3.93286188e+00, -5.97701682e-01, -7.29922951e-02],\n",
              "       [-3.76474937e+00, -4.61762932e-01, -1.76374432e-01],\n",
              "       [-4.48981758e+00, -3.80470890e-01, -1.17288784e-01],\n",
              "       [-4.39828619e+00, -8.08241635e-01, -7.49995532e-02],\n",
              "       [ 3.09491866e+00,  1.46784171e-01, -2.20623000e-01],\n",
              "       [ 3.07586092e+00, -6.16775204e-02, -2.95152852e-01],\n",
              "       [ 2.32158823e+00, -7.53749739e-02, -2.68871213e-01],\n",
              "       [ 1.85860372e+00,  3.39793715e-01, -2.24262647e-01],\n",
              "       [ 1.70841005e+00,  1.38821248e-01, -2.05227608e-01],\n",
              "       [ 1.14789595e+00,  1.87949535e-01, -2.16746548e-01],\n",
              "       [ 8.12273949e-01,  4.04120591e-01, -6.39147786e-02],\n",
              "       [ 9.78994145e-01,  2.38064680e-01, -1.66830380e-01],\n",
              "       [ 5.19892830e-01,  4.47761247e-01, -7.65611129e-02],\n",
              "       [ 4.31730371e-01,  3.16932762e-01, -1.17454423e-01],\n",
              "       [ 4.59661053e-01,  1.93252793e-02, -2.55632172e-01],\n",
              "       [-5.06962363e-03,  3.24829287e-01, -1.56781708e-01],\n",
              "       [-8.58543705e-02,  5.03276555e-01, -8.14660976e-02],\n",
              "       [-1.82795509e-02,  5.79329200e-01, -1.73650248e-01],\n",
              "       [ 3.49043151e-02,  3.93538668e-01, -1.66275021e-01],\n",
              "       [-1.50599860e-01,  3.12016542e-01, -1.27219251e-01],\n",
              "       [-1.47052137e-01,  3.59997637e-01, -1.14191623e-01],\n",
              "       [-1.67675260e-01,  4.80437919e-01, -1.34901141e-01],\n",
              "       [-5.39692864e-01,  4.29660910e-01, -1.92465050e-01],\n",
              "       [-6.74247296e-01,  4.56773081e-01, -1.87942963e-01],\n",
              "       [-1.05203908e+00,  1.85556438e-01, -1.18984025e-01],\n",
              "       [-1.08706870e+00,  2.03395704e-01, -2.20270340e-01],\n",
              "       [-7.95205907e-01,  4.94212394e-01, -2.05937991e-01],\n",
              "       [-9.12408377e-01,  1.26267047e-01, -2.27545960e-01],\n",
              "       [-1.23715094e+00,  3.62767824e-01, -2.04860908e-01],\n",
              "       [-2.07400937e+00,  5.35179814e-01,  3.75105901e-02],\n",
              "       [-1.54526206e+00,  5.61783293e-01, -1.98136401e-01],\n",
              "       [-1.50164680e+00,  4.95946697e-01, -2.08096316e-01],\n",
              "       [-1.75038657e+00,  4.56442802e-01, -9.98059969e-02],\n",
              "       [-1.66120778e+00,  2.40571410e-02, -9.10599251e-02],\n",
              "       [-1.15005016e+00,  2.55596950e-01, -2.15571044e-01],\n",
              "       [-1.63740627e+00,  3.01980205e-01, -3.10920508e-01],\n",
              "       [-1.82969950e+00,  8.76967343e-01, -2.89708666e-02],\n",
              "       [-2.06717688e+00,  4.37632757e-01, -1.41990518e-01],\n",
              "       [-2.19364720e+00,  5.00973206e-01, -1.63187031e-01],\n",
              "       [-2.65529190e+00,  4.41332833e-01, -2.12056916e-01],\n",
              "       [-2.61025385e+00,  4.33650894e-01, -2.00926145e-01],\n",
              "       [-3.01535145e+00,  8.04567381e-01,  4.34327851e-02],\n",
              "       [-2.74624392e+00,  4.14795495e-01, -4.64007473e-02],\n",
              "       [-2.86570310e+00,  5.61821978e-01, -2.85313657e-01],\n",
              "       [-2.58674964e+00,  1.95595951e-01, -2.60970141e-01],\n",
              "       [-3.14002295e+00,  5.64827142e-01, -2.97569993e-01],\n",
              "       [-3.28893219e+00,  4.88120891e-01, -1.89203993e-01],\n",
              "       [-2.74827650e+00,  3.52864582e-01, -2.13445632e-01],\n",
              "       [-3.90860080e+00,  5.76022583e-01, -1.12208751e-01],\n",
              "       [-3.39086409e+00,  6.81516082e-01, -2.56877495e-01],\n",
              "       [-3.48787957e+00,  2.43255554e-01, -3.18587215e-01],\n",
              "       [-3.58620857e+00,  2.39493452e-01, -2.79724409e-01],\n",
              "       [-3.80383014e+00,  1.47596804e-01, -2.84498769e-01],\n",
              "       [-4.97613307e+00,  8.64730597e-01, -7.51231278e-02]])"
            ]
          },
          "metadata": {},
          "execution_count": 24
        }
      ]
    },
    {
      "cell_type": "markdown",
      "source": [
        "Construimos un DataFrame con las 3 componentes principales y el target."
      ],
      "metadata": {
        "id": "DmrmQG0KjC_s"
      }
    },
    {
      "cell_type": "code",
      "source": [
        "comp_crabs = pd.DataFrame({ \"PCA1\": pca_3[:,0], \"PCA2\": pca_3[:,1],\"PCA3\": pca_3[:,2],\"clase\": crabs_copy['sp']})"
      ],
      "metadata": {
        "id": "LqudparzWUYO"
      },
      "execution_count": null,
      "outputs": []
    },
    {
      "cell_type": "code",
      "source": [
        "comp_crabs"
      ],
      "metadata": {
        "colab": {
          "base_uri": "https://localhost:8080/",
          "height": 423
        },
        "id": "JfMr5x2ubBLg",
        "outputId": "e3d62609-9627-4ee4-b85b-414ec81f3a0e"
      },
      "execution_count": null,
      "outputs": [
        {
          "output_type": "execute_result",
          "data": {
            "text/plain": [
              "         PCA1      PCA2      PCA3 clase\n",
              "0    4.927573 -0.268445 -0.122258     B\n",
              "1    4.386176 -0.094074 -0.039232     B\n",
              "2    4.128664 -0.168876  0.033644     B\n",
              "3    3.883681 -0.246008  0.014501     B\n",
              "4    3.834055 -0.224166 -0.015067     B\n",
              "..        ...       ...       ...   ...\n",
              "195 -3.390864  0.681516 -0.256877     O\n",
              "196 -3.487880  0.243256 -0.318587     O\n",
              "197 -3.586209  0.239493 -0.279724     O\n",
              "198 -3.803830  0.147597 -0.284499     O\n",
              "199 -4.976133  0.864731 -0.075123     O\n",
              "\n",
              "[200 rows x 4 columns]"
            ],
            "text/html": [
              "\n",
              "  <div id=\"df-4d16de9d-e345-4e97-926f-351781d0ca2c\" class=\"colab-df-container\">\n",
              "    <div>\n",
              "<style scoped>\n",
              "    .dataframe tbody tr th:only-of-type {\n",
              "        vertical-align: middle;\n",
              "    }\n",
              "\n",
              "    .dataframe tbody tr th {\n",
              "        vertical-align: top;\n",
              "    }\n",
              "\n",
              "    .dataframe thead th {\n",
              "        text-align: right;\n",
              "    }\n",
              "</style>\n",
              "<table border=\"1\" class=\"dataframe\">\n",
              "  <thead>\n",
              "    <tr style=\"text-align: right;\">\n",
              "      <th></th>\n",
              "      <th>PCA1</th>\n",
              "      <th>PCA2</th>\n",
              "      <th>PCA3</th>\n",
              "      <th>clase</th>\n",
              "    </tr>\n",
              "  </thead>\n",
              "  <tbody>\n",
              "    <tr>\n",
              "      <th>0</th>\n",
              "      <td>4.927573</td>\n",
              "      <td>-0.268445</td>\n",
              "      <td>-0.122258</td>\n",
              "      <td>B</td>\n",
              "    </tr>\n",
              "    <tr>\n",
              "      <th>1</th>\n",
              "      <td>4.386176</td>\n",
              "      <td>-0.094074</td>\n",
              "      <td>-0.039232</td>\n",
              "      <td>B</td>\n",
              "    </tr>\n",
              "    <tr>\n",
              "      <th>2</th>\n",
              "      <td>4.128664</td>\n",
              "      <td>-0.168876</td>\n",
              "      <td>0.033644</td>\n",
              "      <td>B</td>\n",
              "    </tr>\n",
              "    <tr>\n",
              "      <th>3</th>\n",
              "      <td>3.883681</td>\n",
              "      <td>-0.246008</td>\n",
              "      <td>0.014501</td>\n",
              "      <td>B</td>\n",
              "    </tr>\n",
              "    <tr>\n",
              "      <th>4</th>\n",
              "      <td>3.834055</td>\n",
              "      <td>-0.224166</td>\n",
              "      <td>-0.015067</td>\n",
              "      <td>B</td>\n",
              "    </tr>\n",
              "    <tr>\n",
              "      <th>...</th>\n",
              "      <td>...</td>\n",
              "      <td>...</td>\n",
              "      <td>...</td>\n",
              "      <td>...</td>\n",
              "    </tr>\n",
              "    <tr>\n",
              "      <th>195</th>\n",
              "      <td>-3.390864</td>\n",
              "      <td>0.681516</td>\n",
              "      <td>-0.256877</td>\n",
              "      <td>O</td>\n",
              "    </tr>\n",
              "    <tr>\n",
              "      <th>196</th>\n",
              "      <td>-3.487880</td>\n",
              "      <td>0.243256</td>\n",
              "      <td>-0.318587</td>\n",
              "      <td>O</td>\n",
              "    </tr>\n",
              "    <tr>\n",
              "      <th>197</th>\n",
              "      <td>-3.586209</td>\n",
              "      <td>0.239493</td>\n",
              "      <td>-0.279724</td>\n",
              "      <td>O</td>\n",
              "    </tr>\n",
              "    <tr>\n",
              "      <th>198</th>\n",
              "      <td>-3.803830</td>\n",
              "      <td>0.147597</td>\n",
              "      <td>-0.284499</td>\n",
              "      <td>O</td>\n",
              "    </tr>\n",
              "    <tr>\n",
              "      <th>199</th>\n",
              "      <td>-4.976133</td>\n",
              "      <td>0.864731</td>\n",
              "      <td>-0.075123</td>\n",
              "      <td>O</td>\n",
              "    </tr>\n",
              "  </tbody>\n",
              "</table>\n",
              "<p>200 rows × 4 columns</p>\n",
              "</div>\n",
              "    <div class=\"colab-df-buttons\">\n",
              "\n",
              "  <div class=\"colab-df-container\">\n",
              "    <button class=\"colab-df-convert\" onclick=\"convertToInteractive('df-4d16de9d-e345-4e97-926f-351781d0ca2c')\"\n",
              "            title=\"Convert this dataframe to an interactive table.\"\n",
              "            style=\"display:none;\">\n",
              "\n",
              "  <svg xmlns=\"http://www.w3.org/2000/svg\" height=\"24px\" viewBox=\"0 -960 960 960\">\n",
              "    <path d=\"M120-120v-720h720v720H120Zm60-500h600v-160H180v160Zm220 220h160v-160H400v160Zm0 220h160v-160H400v160ZM180-400h160v-160H180v160Zm440 0h160v-160H620v160ZM180-180h160v-160H180v160Zm440 0h160v-160H620v160Z\"/>\n",
              "  </svg>\n",
              "    </button>\n",
              "\n",
              "  <style>\n",
              "    .colab-df-container {\n",
              "      display:flex;\n",
              "      gap: 12px;\n",
              "    }\n",
              "\n",
              "    .colab-df-convert {\n",
              "      background-color: #E8F0FE;\n",
              "      border: none;\n",
              "      border-radius: 50%;\n",
              "      cursor: pointer;\n",
              "      display: none;\n",
              "      fill: #1967D2;\n",
              "      height: 32px;\n",
              "      padding: 0 0 0 0;\n",
              "      width: 32px;\n",
              "    }\n",
              "\n",
              "    .colab-df-convert:hover {\n",
              "      background-color: #E2EBFA;\n",
              "      box-shadow: 0px 1px 2px rgba(60, 64, 67, 0.3), 0px 1px 3px 1px rgba(60, 64, 67, 0.15);\n",
              "      fill: #174EA6;\n",
              "    }\n",
              "\n",
              "    .colab-df-buttons div {\n",
              "      margin-bottom: 4px;\n",
              "    }\n",
              "\n",
              "    [theme=dark] .colab-df-convert {\n",
              "      background-color: #3B4455;\n",
              "      fill: #D2E3FC;\n",
              "    }\n",
              "\n",
              "    [theme=dark] .colab-df-convert:hover {\n",
              "      background-color: #434B5C;\n",
              "      box-shadow: 0px 1px 3px 1px rgba(0, 0, 0, 0.15);\n",
              "      filter: drop-shadow(0px 1px 2px rgba(0, 0, 0, 0.3));\n",
              "      fill: #FFFFFF;\n",
              "    }\n",
              "  </style>\n",
              "\n",
              "    <script>\n",
              "      const buttonEl =\n",
              "        document.querySelector('#df-4d16de9d-e345-4e97-926f-351781d0ca2c button.colab-df-convert');\n",
              "      buttonEl.style.display =\n",
              "        google.colab.kernel.accessAllowed ? 'block' : 'none';\n",
              "\n",
              "      async function convertToInteractive(key) {\n",
              "        const element = document.querySelector('#df-4d16de9d-e345-4e97-926f-351781d0ca2c');\n",
              "        const dataTable =\n",
              "          await google.colab.kernel.invokeFunction('convertToInteractive',\n",
              "                                                    [key], {});\n",
              "        if (!dataTable) return;\n",
              "\n",
              "        const docLinkHtml = 'Like what you see? Visit the ' +\n",
              "          '<a target=\"_blank\" href=https://colab.research.google.com/notebooks/data_table.ipynb>data table notebook</a>'\n",
              "          + ' to learn more about interactive tables.';\n",
              "        element.innerHTML = '';\n",
              "        dataTable['output_type'] = 'display_data';\n",
              "        await google.colab.output.renderOutput(dataTable, element);\n",
              "        const docLink = document.createElement('div');\n",
              "        docLink.innerHTML = docLinkHtml;\n",
              "        element.appendChild(docLink);\n",
              "      }\n",
              "    </script>\n",
              "  </div>\n",
              "\n",
              "\n",
              "<div id=\"df-57926998-c964-4da7-9f91-ed5ca7417505\">\n",
              "  <button class=\"colab-df-quickchart\" onclick=\"quickchart('df-57926998-c964-4da7-9f91-ed5ca7417505')\"\n",
              "            title=\"Suggest charts.\"\n",
              "            style=\"display:none;\">\n",
              "\n",
              "<svg xmlns=\"http://www.w3.org/2000/svg\" height=\"24px\"viewBox=\"0 0 24 24\"\n",
              "     width=\"24px\">\n",
              "    <g>\n",
              "        <path d=\"M19 3H5c-1.1 0-2 .9-2 2v14c0 1.1.9 2 2 2h14c1.1 0 2-.9 2-2V5c0-1.1-.9-2-2-2zM9 17H7v-7h2v7zm4 0h-2V7h2v10zm4 0h-2v-4h2v4z\"/>\n",
              "    </g>\n",
              "</svg>\n",
              "  </button>\n",
              "\n",
              "<style>\n",
              "  .colab-df-quickchart {\n",
              "      --bg-color: #E8F0FE;\n",
              "      --fill-color: #1967D2;\n",
              "      --hover-bg-color: #E2EBFA;\n",
              "      --hover-fill-color: #174EA6;\n",
              "      --disabled-fill-color: #AAA;\n",
              "      --disabled-bg-color: #DDD;\n",
              "  }\n",
              "\n",
              "  [theme=dark] .colab-df-quickchart {\n",
              "      --bg-color: #3B4455;\n",
              "      --fill-color: #D2E3FC;\n",
              "      --hover-bg-color: #434B5C;\n",
              "      --hover-fill-color: #FFFFFF;\n",
              "      --disabled-bg-color: #3B4455;\n",
              "      --disabled-fill-color: #666;\n",
              "  }\n",
              "\n",
              "  .colab-df-quickchart {\n",
              "    background-color: var(--bg-color);\n",
              "    border: none;\n",
              "    border-radius: 50%;\n",
              "    cursor: pointer;\n",
              "    display: none;\n",
              "    fill: var(--fill-color);\n",
              "    height: 32px;\n",
              "    padding: 0;\n",
              "    width: 32px;\n",
              "  }\n",
              "\n",
              "  .colab-df-quickchart:hover {\n",
              "    background-color: var(--hover-bg-color);\n",
              "    box-shadow: 0 1px 2px rgba(60, 64, 67, 0.3), 0 1px 3px 1px rgba(60, 64, 67, 0.15);\n",
              "    fill: var(--button-hover-fill-color);\n",
              "  }\n",
              "\n",
              "  .colab-df-quickchart-complete:disabled,\n",
              "  .colab-df-quickchart-complete:disabled:hover {\n",
              "    background-color: var(--disabled-bg-color);\n",
              "    fill: var(--disabled-fill-color);\n",
              "    box-shadow: none;\n",
              "  }\n",
              "\n",
              "  .colab-df-spinner {\n",
              "    border: 2px solid var(--fill-color);\n",
              "    border-color: transparent;\n",
              "    border-bottom-color: var(--fill-color);\n",
              "    animation:\n",
              "      spin 1s steps(1) infinite;\n",
              "  }\n",
              "\n",
              "  @keyframes spin {\n",
              "    0% {\n",
              "      border-color: transparent;\n",
              "      border-bottom-color: var(--fill-color);\n",
              "      border-left-color: var(--fill-color);\n",
              "    }\n",
              "    20% {\n",
              "      border-color: transparent;\n",
              "      border-left-color: var(--fill-color);\n",
              "      border-top-color: var(--fill-color);\n",
              "    }\n",
              "    30% {\n",
              "      border-color: transparent;\n",
              "      border-left-color: var(--fill-color);\n",
              "      border-top-color: var(--fill-color);\n",
              "      border-right-color: var(--fill-color);\n",
              "    }\n",
              "    40% {\n",
              "      border-color: transparent;\n",
              "      border-right-color: var(--fill-color);\n",
              "      border-top-color: var(--fill-color);\n",
              "    }\n",
              "    60% {\n",
              "      border-color: transparent;\n",
              "      border-right-color: var(--fill-color);\n",
              "    }\n",
              "    80% {\n",
              "      border-color: transparent;\n",
              "      border-right-color: var(--fill-color);\n",
              "      border-bottom-color: var(--fill-color);\n",
              "    }\n",
              "    90% {\n",
              "      border-color: transparent;\n",
              "      border-bottom-color: var(--fill-color);\n",
              "    }\n",
              "  }\n",
              "</style>\n",
              "\n",
              "  <script>\n",
              "    async function quickchart(key) {\n",
              "      const quickchartButtonEl =\n",
              "        document.querySelector('#' + key + ' button');\n",
              "      quickchartButtonEl.disabled = true;  // To prevent multiple clicks.\n",
              "      quickchartButtonEl.classList.add('colab-df-spinner');\n",
              "      try {\n",
              "        const charts = await google.colab.kernel.invokeFunction(\n",
              "            'suggestCharts', [key], {});\n",
              "      } catch (error) {\n",
              "        console.error('Error during call to suggestCharts:', error);\n",
              "      }\n",
              "      quickchartButtonEl.classList.remove('colab-df-spinner');\n",
              "      quickchartButtonEl.classList.add('colab-df-quickchart-complete');\n",
              "    }\n",
              "    (() => {\n",
              "      let quickchartButtonEl =\n",
              "        document.querySelector('#df-57926998-c964-4da7-9f91-ed5ca7417505 button');\n",
              "      quickchartButtonEl.style.display =\n",
              "        google.colab.kernel.accessAllowed ? 'block' : 'none';\n",
              "    })();\n",
              "  </script>\n",
              "</div>\n",
              "    </div>\n",
              "  </div>\n"
            ]
          },
          "metadata": {},
          "execution_count": 26
        }
      ]
    },
    {
      "cell_type": "code",
      "source": [
        "pca3.explained_variance_ratio_ #observamos cuanta varianza representa cada componente"
      ],
      "metadata": {
        "colab": {
          "base_uri": "https://localhost:8080/"
        },
        "id": "oA48CtlJbBvZ",
        "outputId": "8a84ab42-5e8b-4118-92ea-65ea05793391"
      },
      "execution_count": null,
      "outputs": [
        {
          "output_type": "execute_result",
          "data": {
            "text/plain": [
              "array([0.95776696, 0.03033704, 0.00932659])"
            ]
          },
          "metadata": {},
          "execution_count": 27
        }
      ]
    },
    {
      "cell_type": "code",
      "source": [
        "eigenvalues = pca3.explained_variance_\n",
        "eigenvalues #eigenvalues"
      ],
      "metadata": {
        "id": "oWXDaoKSbUCO",
        "colab": {
          "base_uri": "https://localhost:8080/"
        },
        "outputId": "294fdfaf-e069-4e75-e14a-7bd9293bab43"
      },
      "execution_count": null,
      "outputs": [
        {
          "output_type": "execute_result",
          "data": {
            "text/plain": [
              "array([4.81289928, 0.15244744, 0.04686731])"
            ]
          },
          "metadata": {},
          "execution_count": 28
        }
      ]
    },
    {
      "cell_type": "markdown",
      "source": [
        "Graficamos la varianza que representada cada componente principal"
      ],
      "metadata": {
        "id": "hV_gWa6ZkB9m"
      }
    },
    {
      "cell_type": "code",
      "source": [
        "sns.barplot(x=[\"PCA1\",\"PCA2\",\"PCA3\"],\n",
        "            y=pca3.explained_variance_ratio_)"
      ],
      "metadata": {
        "colab": {
          "base_uri": "https://localhost:8080/",
          "height": 450
        },
        "id": "80E4rn27ih25",
        "outputId": "3ca9f7fc-708e-4683-d42e-7a6d23682f5a"
      },
      "execution_count": null,
      "outputs": [
        {
          "output_type": "execute_result",
          "data": {
            "text/plain": [
              "<Axes: >"
            ]
          },
          "metadata": {},
          "execution_count": 29
        },
        {
          "output_type": "display_data",
          "data": {
            "text/plain": [
              "<Figure size 640x480 with 1 Axes>"
            ],
            "image/png": "[encoded data removed]"
          },
          "metadata": {}
        }
      ]
    },
    {
      "cell_type": "markdown",
      "source": [
        "## Análisis exploratorio (visualizacíon)"
      ],
      "metadata": {
        "id": "b8cDTwhWUsbH"
      }
    },
    {
      "cell_type": "markdown",
      "source": [
        "Graficamos las distintas combinaciones en 2D de estas componentes."
      ],
      "metadata": {
        "id": "7v43-UJvrjQs"
      }
    },
    {
      "cell_type": "code",
      "source": [
        "sns.scatterplot(x=\"PCA1\", y=\"PCA2\",data=comp_crabs, hue=\"clase\")"
      ],
      "metadata": {
        "colab": {
          "base_uri": "https://localhost:8080/",
          "height": 466
        },
        "id": "1wLowv_bk9LZ",
        "outputId": "70a72ca9-74bc-482a-c648-1613d9db5af8"
      },
      "execution_count": null,
      "outputs": [
        {
          "output_type": "execute_result",
          "data": {
            "text/plain": [
              "<Axes: xlabel='PCA1', ylabel='PCA2'>"
            ]
          },
          "metadata": {},
          "execution_count": 30
        },
        {
          "output_type": "display_data",
          "data": {
            "text/plain": [
              "<Figure size 640x480 with 1 Axes>"
            ],
            "image/png": "[encoded data removed]"
          },
          "metadata": {}
        }
      ]
    },
    {
      "cell_type": "markdown",
      "source": [
        "En esta gráfica podemos que no se aprecia una distinción clara entre estas dos componentes, parecen estar muy correlacionadas."
      ],
      "metadata": {
        "id": "Mdefvrq2sFej"
      }
    },
    {
      "cell_type": "code",
      "source": [
        "sns.scatterplot(x=\"PCA1\", y=\"PCA3\",data=comp_crabs, hue=\"clase\")#.iloc[:0,:1])"
      ],
      "metadata": {
        "colab": {
          "base_uri": "https://localhost:8080/",
          "height": 466
        },
        "id": "cP38L2HomalK",
        "outputId": "2ef079bb-e924-4e12-8116-0c909ff24a85"
      },
      "execution_count": null,
      "outputs": [
        {
          "output_type": "execute_result",
          "data": {
            "text/plain": [
              "<Axes: xlabel='PCA1', ylabel='PCA3'>"
            ]
          },
          "metadata": {},
          "execution_count": 31
        },
        {
          "output_type": "display_data",
          "data": {
            "text/plain": [
              "<Figure size 640x480 with 1 Axes>"
            ],
            "image/png": "[encoded data removed]"
          },
          "metadata": {}
        }
      ]
    },
    {
      "cell_type": "markdown",
      "source": [
        "En este caso se puede apreciar una muy buena separación"
      ],
      "metadata": {
        "id": "xt17OM7SsPTv"
      }
    },
    {
      "cell_type": "code",
      "source": [
        "sns.scatterplot(x=\"PCA3\", y=\"PCA2\",data=comp_crabs, hue=\"clase\")# )#.iloc[:0,:1])"
      ],
      "metadata": {
        "colab": {
          "base_uri": "https://localhost:8080/",
          "height": 466
        },
        "id": "rC9UIHkIpokz",
        "outputId": "0db24d2d-73ef-40fa-81e1-240bf1aa1b17"
      },
      "execution_count": null,
      "outputs": [
        {
          "output_type": "execute_result",
          "data": {
            "text/plain": [
              "<Axes: xlabel='PCA3', ylabel='PCA2'>"
            ]
          },
          "metadata": {},
          "execution_count": 32
        },
        {
          "output_type": "display_data",
          "data": {
            "text/plain": [
              "<Figure size 640x480 with 1 Axes>"
            ],
            "image/png": "[encoded data removed]"
          },
          "metadata": {}
        }
      ]
    },
    {
      "cell_type": "markdown",
      "source": [
        "Podría uno pensar que es posible generar una separación entre ambos grupos, sin embargo, podrían mezclarse de tal forma que no sea posible separar del todo, Sería conveniente tomar más muestras."
      ],
      "metadata": {
        "id": "otoUl1u6so3N"
      }
    },
    {
      "cell_type": "markdown",
      "source": [
        "# Elección del algoritmo"
      ],
      "metadata": {
        "id": "NoOiuGtuVOaJ"
      }
    },
    {
      "cell_type": "markdown",
      "source": [
        "Podemos usar las componentes 1 y 3 para generar un modelo de aprendizaje. Debido a que son pocos datos y es notoria una separación casi lineal, podríamos usar como algoritmos de clasificación la máquina de soporte vectorial (SVC), un árbol de decición  (DTClassifier) y el algoritmo KNN."
      ],
      "metadata": {
        "id": "Yxc1HWHuZk3C"
      }
    },
    {
      "cell_type": "code",
      "source": [
        "from sklearn.model_selection import train_test_split\n",
        "from sklearn.metrics import classification_report\n",
        "from sklearn.metrics import ConfusionMatrixDisplay"
      ],
      "metadata": {
        "id": "vImmiEkjh3AK"
      },
      "execution_count": null,
      "outputs": []
    },
    {
      "cell_type": "code",
      "source": [
        "X_train, X_test, y_train, y_test = train_test_split(comp_crabs.drop(['clase', 'PCA2'], axis = 1), comp_crabs[['clase']].values.flatten().tolist(), test_size=.15, shuffle=True)"
      ],
      "metadata": {
        "id": "DGKekUXhky72"
      },
      "execution_count": null,
      "outputs": []
    },
    {
      "cell_type": "markdown",
      "source": [
        "### Support Vector Machine (SVC)"
      ],
      "metadata": {
        "id": "t1k76Btua4XI"
      }
    },
    {
      "cell_type": "code",
      "source": [
        "from sklearn.svm import SVC # \"Support vector classifier\"\n",
        "model = SVC(kernel='linear')\n",
        "model.fit(X_train, y_train)"
      ],
      "metadata": {
        "colab": {
          "base_uri": "https://localhost:8080/",
          "height": 74
        },
        "id": "0k2ON-JsZrjQ",
        "outputId": "54b11a3e-e4c8-430a-e756-e4f8548b127b"
      },
      "execution_count": null,
      "outputs": [
        {
          "output_type": "execute_result",
          "data": {
            "text/plain": [
              "SVC(kernel='linear')"
            ],
            "text/html": [
              "<style>#sk-container-id-2 {color: black;background-color: white;}#sk-container-id-2 pre{padding: 0;}#sk-container-id-2 div.sk-toggleable {background-color: white;}#sk-container-id-2 label.sk-toggleable__label {cursor: pointer;display: block;width: 100%;margin-bottom: 0;padding: 0.3em;box-sizing: border-box;text-align: center;}#sk-container-id-2 label.sk-toggleable__label-arrow:before {content: \"▸\";float: left;margin-right: 0.25em;color: #696969;}#sk-container-id-2 label.sk-toggleable__label-arrow:hover:before {color: black;}#sk-container-id-2 div.sk-estimator:hover label.sk-toggleable__label-arrow:before {color: black;}#sk-container-id-2 div.sk-toggleable__content {max-height: 0;max-width: 0;overflow: hidden;text-align: left;background-color: #f0f8ff;}#sk-container-id-2 div.sk-toggleable__content pre {margin: 0.2em;color: black;border-radius: 0.25em;background-color: #f0f8ff;}#sk-container-id-2 input.sk-toggleable__control:checked~div.sk-toggleable__content {max-height: 200px;max-width: 100%;overflow: auto;}#sk-container-id-2 input.sk-toggleable__control:checked~label.sk-toggleable__label-arrow:before {content: \"▾\";}#sk-container-id-2 div.sk-estimator input.sk-toggleable__control:checked~label.sk-toggleable__label {background-color: #d4ebff;}#sk-container-id-2 div.sk-label input.sk-toggleable__control:checked~label.sk-toggleable__label {background-color: #d4ebff;}#sk-container-id-2 input.sk-hidden--visually {border: 0;clip: rect(1px 1px 1px 1px);clip: rect(1px, 1px, 1px, 1px);height: 1px;margin: -1px;overflow: hidden;padding: 0;position: absolute;width: 1px;}#sk-container-id-2 div.sk-estimator {font-family: monospace;background-color: #f0f8ff;border: 1px dotted black;border-radius: 0.25em;box-sizing: border-box;margin-bottom: 0.5em;}#sk-container-id-2 div.sk-estimator:hover {background-color: #d4ebff;}#sk-container-id-2 div.sk-parallel-item::after {content: \"\";width: 100%;border-bottom: 1px solid gray;flex-grow: 1;}#sk-container-id-2 div.sk-label:hover label.sk-toggleable__label {background-color: #d4ebff;}#sk-container-id-2 div.sk-serial::before {content: \"\";position: absolute;border-left: 1px solid gray;box-sizing: border-box;top: 0;bottom: 0;left: 50%;z-index: 0;}#sk-container-id-2 div.sk-serial {display: flex;flex-direction: column;align-items: center;background-color: white;padding-right: 0.2em;padding-left: 0.2em;position: relative;}#sk-container-id-2 div.sk-item {position: relative;z-index: 1;}#sk-container-id-2 div.sk-parallel {display: flex;align-items: stretch;justify-content: center;background-color: white;position: relative;}#sk-container-id-2 div.sk-item::before, #sk-container-id-2 div.sk-parallel-item::before {content: \"\";position: absolute;border-left: 1px solid gray;box-sizing: border-box;top: 0;bottom: 0;left: 50%;z-index: -1;}#sk-container-id-2 div.sk-parallel-item {display: flex;flex-direction: column;z-index: 1;position: relative;background-color: white;}#sk-container-id-2 div.sk-parallel-item:first-child::after {align-self: flex-end;width: 50%;}#sk-container-id-2 div.sk-parallel-item:last-child::after {align-self: flex-start;width: 50%;}#sk-container-id-2 div.sk-parallel-item:only-child::after {width: 0;}#sk-container-id-2 div.sk-dashed-wrapped {border: 1px dashed gray;margin: 0 0.4em 0.5em 0.4em;box-sizing: border-box;padding-bottom: 0.4em;background-color: white;}#sk-container-id-2 div.sk-label label {font-family: monospace;font-weight: bold;display: inline-block;line-height: 1.2em;}#sk-container-id-2 div.sk-label-container {text-align: center;}#sk-container-id-2 div.sk-container {/* jupyter's `normalize.less` sets `[hidden] { display: none; }` but bootstrap.min.css set `[hidden] { display: none !important; }` so we also need the `!important` here to be able to override the default hidden behavior on the sphinx rendered scikit-learn.org. See: https://github.com/scikit-learn/scikit-learn/issues/21755 */display: inline-block !important;position: relative;}#sk-container-id-2 div.sk-text-repr-fallback {display: none;}</style><div id=\"sk-container-id-2\" class=\"sk-top-container\"><div class=\"sk-text-repr-fallback\"><pre>SVC(kernel=&#x27;linear&#x27;)</pre><b>In a Jupyter environment, please rerun this cell to show the HTML representation or trust the notebook. <br />On GitHub, the HTML representation is unable to render, please try loading this page with nbviewer.org.</b></div><div class=\"sk-container\" hidden><div class=\"sk-item\"><div class=\"sk-estimator sk-toggleable\"><input class=\"sk-toggleable__control sk-hidden--visually\" id=\"sk-estimator-id-2\" type=\"checkbox\" checked><label for=\"sk-estimator-id-2\" class=\"sk-toggleable__label sk-toggleable__label-arrow\">SVC</label><div class=\"sk-toggleable__content\"><pre>SVC(kernel=&#x27;linear&#x27;)</pre></div></div></div></div></div>"
            ]
          },
          "metadata": {},
          "execution_count": 35
        }
      ]
    },
    {
      "cell_type": "code",
      "source": [
        "y_pred_SVC = model.predict(X_test)"
      ],
      "metadata": {
        "id": "kR2GGYZ9pxXr"
      },
      "execution_count": null,
      "outputs": []
    },
    {
      "cell_type": "code",
      "source": [
        "print(classification_report(y_test,y_pred_SVC))"
      ],
      "metadata": {
        "colab": {
          "base_uri": "https://localhost:8080/"
        },
        "id": "uZf1WltJqOTw",
        "outputId": "e46921cc-c7d5-487c-c3db-f6d5364104a5"
      },
      "execution_count": null,
      "outputs": [
        {
          "output_type": "stream",
          "name": "stdout",
          "text": [
            "              precision    recall  f1-score   support\n",
            "\n",
            "           B       1.00      1.00      1.00         7\n",
            "           O       1.00      1.00      1.00        23\n",
            "\n",
            "    accuracy                           1.00        30\n",
            "   macro avg       1.00      1.00      1.00        30\n",
            "weighted avg       1.00      1.00      1.00        30\n",
            "\n"
          ]
        }
      ]
    },
    {
      "cell_type": "code",
      "source": [
        "disp = ConfusionMatrixDisplay.from_estimator(\n",
        "        model,\n",
        "        X_test,\n",
        "        y_test,\n",
        "        cmap=plt.cm.Blues\n",
        "    )\n",
        "disp.ax_.set_title('Matriz de Confusión de Clases SVC')\n",
        "#print('title')\n",
        "#print(disp.confusion_matrix)\n",
        "plt.show()"
      ],
      "metadata": {
        "colab": {
          "base_uri": "https://localhost:8080/",
          "height": 472
        },
        "id": "aP0DICs2rgKb",
        "outputId": "3b65e982-01b7-4d32-dbf0-feb3ec3ae0ed"
      },
      "execution_count": null,
      "outputs": [
        {
          "output_type": "display_data",
          "data": {
            "text/plain": [
              "<Figure size 640x480 with 2 Axes>"
            ],
            "image/png": "[encoded data removed]"
          },
          "metadata": {}
        }
      ]
    },
    {
      "cell_type": "markdown",
      "source": [
        "Podemos observar que este algoritmo nos genera un 100% de clasificación, lo cual podría suponer overfitting o una muy clara separación en los datos (raramente posible en la práctica). Para tener una mejor comprensión del rendimietno del modelo y debido a que son pocos datos utilizaremos leave One Out validation (LOO) para este y los demás modelos."
      ],
      "metadata": {
        "id": "Ws7R-_YjXQJe"
      }
    },
    {
      "cell_type": "code",
      "source": [
        "from sklearn.model_selection import LeaveOneOut\n",
        "from sklearn.model_selection import cross_val_score"
      ],
      "metadata": {
        "id": "7MgrZSARh3C_"
      },
      "execution_count": null,
      "outputs": []
    },
    {
      "cell_type": "code",
      "source": [
        "loo = LeaveOneOut()\n",
        "\n",
        "# Realizar validación cruzada LOO\n",
        "resultados = cross_val_score(model, X_train, y_train, cv=loo)\n",
        "\n",
        "# Imprimir los resultados de cada iteración\n",
        "print(\"Resultados de cada iteración:\", resultados)\n",
        "\n",
        "# Calcular y mostrar el rendimiento promedio\n",
        "print(\"Rendimiento promedio:\", resultados.mean())"
      ],
      "metadata": {
        "colab": {
          "base_uri": "https://localhost:8080/"
        },
        "id": "UCSTXcugiucT",
        "outputId": "e6a3a80e-41f1-43c8-c04b-3a47ff7a6755"
      },
      "execution_count": null,
      "outputs": [
        {
          "output_type": "stream",
          "name": "stdout",
          "text": [
            "Resultados de cada iteración: [1. 1. 1. 1. 1. 1. 1. 1. 1. 1. 1. 1. 1. 1. 1. 1. 1. 1. 1. 1. 1. 1. 1. 1.\n",
            " 1. 1. 1. 1. 1. 1. 1. 1. 1. 1. 1. 1. 1. 1. 1. 1. 1. 1. 1. 1. 1. 1. 1. 1.\n",
            " 1. 1. 1. 1. 1. 1. 1. 1. 1. 1. 1. 1. 1. 1. 1. 1. 1. 1. 1. 1. 1. 1. 1. 1.\n",
            " 1. 1. 1. 1. 1. 1. 1. 1. 1. 1. 1. 1. 1. 1. 1. 1. 1. 1. 1. 1. 1. 1. 1. 1.\n",
            " 1. 1. 1. 1. 1. 1. 1. 1. 1. 1. 1. 1. 1. 1. 1. 1. 1. 1. 1. 1. 1. 1. 1. 1.\n",
            " 1. 1. 1. 1. 1. 1. 1. 1. 1. 1. 1. 1. 1. 1. 1. 1. 1. 1. 1. 1. 1. 1. 1. 1.\n",
            " 1. 1. 1. 1. 1. 1. 1. 1. 1. 1. 1. 1. 1. 1. 1. 1. 1. 1. 1. 1. 1. 1. 1. 1.\n",
            " 1. 1.]\n",
            "Rendimiento promedio: 1.0\n"
          ]
        }
      ]
    },
    {
      "cell_type": "markdown",
      "source": [
        "### DecisionTreeClassifier"
      ],
      "metadata": {
        "id": "ft-2_GbMbN26"
      }
    },
    {
      "cell_type": "code",
      "source": [
        "from sklearn.tree import DecisionTreeClassifier\n",
        "tree = DecisionTreeClassifier()\n",
        "tree.fit(X_train, y_train)"
      ],
      "metadata": {
        "colab": {
          "base_uri": "https://localhost:8080/",
          "height": 74
        },
        "id": "MPjipcL1tkLd",
        "outputId": "123632ea-8a67-4d9b-a644-a9412460edbd"
      },
      "execution_count": null,
      "outputs": [
        {
          "output_type": "execute_result",
          "data": {
            "text/plain": [
              "DecisionTreeClassifier()"
            ],
            "text/html": [
              "<style>#sk-container-id-3 {color: black;background-color: white;}#sk-container-id-3 pre{padding: 0;}#sk-container-id-3 div.sk-toggleable {background-color: white;}#sk-container-id-3 label.sk-toggleable__label {cursor: pointer;display: block;width: 100%;margin-bottom: 0;padding: 0.3em;box-sizing: border-box;text-align: center;}#sk-container-id-3 label.sk-toggleable__label-arrow:before {content: \"▸\";float: left;margin-right: 0.25em;color: #696969;}#sk-container-id-3 label.sk-toggleable__label-arrow:hover:before {color: black;}#sk-container-id-3 div.sk-estimator:hover label.sk-toggleable__label-arrow:before {color: black;}#sk-container-id-3 div.sk-toggleable__content {max-height: 0;max-width: 0;overflow: hidden;text-align: left;background-color: #f0f8ff;}#sk-container-id-3 div.sk-toggleable__content pre {margin: 0.2em;color: black;border-radius: 0.25em;background-color: #f0f8ff;}#sk-container-id-3 input.sk-toggleable__control:checked~div.sk-toggleable__content {max-height: 200px;max-width: 100%;overflow: auto;}#sk-container-id-3 input.sk-toggleable__control:checked~label.sk-toggleable__label-arrow:before {content: \"▾\";}#sk-container-id-3 div.sk-estimator input.sk-toggleable__control:checked~label.sk-toggleable__label {background-color: #d4ebff;}#sk-container-id-3 div.sk-label input.sk-toggleable__control:checked~label.sk-toggleable__label {background-color: #d4ebff;}#sk-container-id-3 input.sk-hidden--visually {border: 0;clip: rect(1px 1px 1px 1px);clip: rect(1px, 1px, 1px, 1px);height: 1px;margin: -1px;overflow: hidden;padding: 0;position: absolute;width: 1px;}#sk-container-id-3 div.sk-estimator {font-family: monospace;background-color: #f0f8ff;border: 1px dotted black;border-radius: 0.25em;box-sizing: border-box;margin-bottom: 0.5em;}#sk-container-id-3 div.sk-estimator:hover {background-color: #d4ebff;}#sk-container-id-3 div.sk-parallel-item::after {content: \"\";width: 100%;border-bottom: 1px solid gray;flex-grow: 1;}#sk-container-id-3 div.sk-label:hover label.sk-toggleable__label {background-color: #d4ebff;}#sk-container-id-3 div.sk-serial::before {content: \"\";position: absolute;border-left: 1px solid gray;box-sizing: border-box;top: 0;bottom: 0;left: 50%;z-index: 0;}#sk-container-id-3 div.sk-serial {display: flex;flex-direction: column;align-items: center;background-color: white;padding-right: 0.2em;padding-left: 0.2em;position: relative;}#sk-container-id-3 div.sk-item {position: relative;z-index: 1;}#sk-container-id-3 div.sk-parallel {display: flex;align-items: stretch;justify-content: center;background-color: white;position: relative;}#sk-container-id-3 div.sk-item::before, #sk-container-id-3 div.sk-parallel-item::before {content: \"\";position: absolute;border-left: 1px solid gray;box-sizing: border-box;top: 0;bottom: 0;left: 50%;z-index: -1;}#sk-container-id-3 div.sk-parallel-item {display: flex;flex-direction: column;z-index: 1;position: relative;background-color: white;}#sk-container-id-3 div.sk-parallel-item:first-child::after {align-self: flex-end;width: 50%;}#sk-container-id-3 div.sk-parallel-item:last-child::after {align-self: flex-start;width: 50%;}#sk-container-id-3 div.sk-parallel-item:only-child::after {width: 0;}#sk-container-id-3 div.sk-dashed-wrapped {border: 1px dashed gray;margin: 0 0.4em 0.5em 0.4em;box-sizing: border-box;padding-bottom: 0.4em;background-color: white;}#sk-container-id-3 div.sk-label label {font-family: monospace;font-weight: bold;display: inline-block;line-height: 1.2em;}#sk-container-id-3 div.sk-label-container {text-align: center;}#sk-container-id-3 div.sk-container {/* jupyter's `normalize.less` sets `[hidden] { display: none; }` but bootstrap.min.css set `[hidden] { display: none !important; }` so we also need the `!important` here to be able to override the default hidden behavior on the sphinx rendered scikit-learn.org. See: https://github.com/scikit-learn/scikit-learn/issues/21755 */display: inline-block !important;position: relative;}#sk-container-id-3 div.sk-text-repr-fallback {display: none;}</style><div id=\"sk-container-id-3\" class=\"sk-top-container\"><div class=\"sk-text-repr-fallback\"><pre>DecisionTreeClassifier()</pre><b>In a Jupyter environment, please rerun this cell to show the HTML representation or trust the notebook. <br />On GitHub, the HTML representation is unable to render, please try loading this page with nbviewer.org.</b></div><div class=\"sk-container\" hidden><div class=\"sk-item\"><div class=\"sk-estimator sk-toggleable\"><input class=\"sk-toggleable__control sk-hidden--visually\" id=\"sk-estimator-id-3\" type=\"checkbox\" checked><label for=\"sk-estimator-id-3\" class=\"sk-toggleable__label sk-toggleable__label-arrow\">DecisionTreeClassifier</label><div class=\"sk-toggleable__content\"><pre>DecisionTreeClassifier()</pre></div></div></div></div></div>"
            ]
          },
          "metadata": {},
          "execution_count": 41
        }
      ]
    },
    {
      "cell_type": "code",
      "source": [
        "y_pred_DTC = tree.predict(X_test)\n",
        "print(classification_report(y_test,y_pred_DTC))"
      ],
      "metadata": {
        "colab": {
          "base_uri": "https://localhost:8080/"
        },
        "id": "jJ4iPfrFw2I8",
        "outputId": "232cf2a0-c91a-4e7a-9dcb-102f32ffa842"
      },
      "execution_count": null,
      "outputs": [
        {
          "output_type": "stream",
          "name": "stdout",
          "text": [
            "              precision    recall  f1-score   support\n",
            "\n",
            "           B       1.00      0.86      0.92         7\n",
            "           O       0.96      1.00      0.98        23\n",
            "\n",
            "    accuracy                           0.97        30\n",
            "   macro avg       0.98      0.93      0.95        30\n",
            "weighted avg       0.97      0.97      0.97        30\n",
            "\n"
          ]
        }
      ]
    },
    {
      "cell_type": "code",
      "source": [
        "disp = ConfusionMatrixDisplay.from_estimator(\n",
        "        tree,\n",
        "        X_test,\n",
        "        y_test,\n",
        "        cmap=plt.cm.Blues\n",
        "    )\n",
        "disp.ax_.set_title('Matriz de Confusión de Clases DTC')\n",
        "#print('title')\n",
        "#print(disp.confusion_matrix)\n",
        "plt.show()"
      ],
      "metadata": {
        "colab": {
          "base_uri": "https://localhost:8080/",
          "height": 472
        },
        "id": "RsrtfikHxkYA",
        "outputId": "c3698e01-8ac6-43cf-b32c-0a93dcd64cf1"
      },
      "execution_count": null,
      "outputs": [
        {
          "output_type": "display_data",
          "data": {
            "text/plain": [
              "<Figure size 640x480 with 2 Axes>"
            ],
            "image/png": "[encoded data removed]"
          },
          "metadata": {}
        }
      ]
    },
    {
      "cell_type": "code",
      "source": [
        "# Realizar validación cruzada LOO\n",
        "resultados_DTC = cross_val_score(tree, X_train, y_train, cv=loo)\n",
        "\n",
        "# Imprimir los resultados de cada iteración\n",
        "print(\"Resultados de cada iteración:\", resultados_DTC)\n",
        "\n",
        "# Calcular y mostrar el rendimiento promedio\n",
        "print(\"Rendimiento promedio:\", resultados_DTC.mean())"
      ],
      "metadata": {
        "colab": {
          "base_uri": "https://localhost:8080/"
        },
        "id": "FXdZvskydoHg",
        "outputId": "6c399cac-4ffc-468f-81b8-c1391cc0dc38"
      },
      "execution_count": null,
      "outputs": [
        {
          "output_type": "stream",
          "name": "stdout",
          "text": [
            "Resultados de cada iteración: [1. 1. 1. 1. 1. 1. 1. 1. 1. 1. 1. 1. 1. 1. 0. 1. 1. 1. 1. 1. 1. 1. 1. 1.\n",
            " 1. 1. 1. 1. 1. 1. 1. 1. 1. 1. 1. 1. 1. 1. 1. 1. 1. 1. 1. 1. 0. 1. 1. 1.\n",
            " 1. 1. 1. 1. 1. 1. 0. 1. 1. 1. 1. 1. 1. 1. 1. 1. 1. 1. 1. 1. 1. 1. 1. 1.\n",
            " 1. 1. 1. 1. 1. 1. 1. 1. 1. 1. 1. 1. 1. 1. 1. 1. 1. 1. 1. 1. 1. 1. 1. 1.\n",
            " 1. 1. 1. 1. 1. 1. 1. 1. 1. 1. 1. 1. 1. 1. 0. 1. 1. 1. 1. 1. 1. 1. 1. 1.\n",
            " 1. 1. 1. 1. 1. 1. 1. 1. 1. 1. 1. 1. 1. 1. 1. 1. 1. 1. 1. 0. 1. 1. 1. 1.\n",
            " 1. 1. 1. 1. 1. 1. 1. 1. 0. 1. 1. 1. 1. 0. 1. 1. 1. 1. 1. 1. 1. 1. 1. 1.\n",
            " 1. 1.]\n",
            "Rendimiento promedio: 0.9588235294117647\n"
          ]
        }
      ]
    },
    {
      "cell_type": "markdown",
      "source": [
        "### K-Nearest Neighbors"
      ],
      "metadata": {
        "id": "0FtcAEtcbXQq"
      }
    },
    {
      "cell_type": "code",
      "source": [
        "from sklearn.neighbors import KNeighborsClassifier\n",
        "KNN = KNeighborsClassifier(n_neighbors = 6)\n",
        "KNN.fit(X_train,y_train)"
      ],
      "metadata": {
        "colab": {
          "base_uri": "https://localhost:8080/",
          "height": 74
        },
        "id": "iJFca696yCRp",
        "outputId": "b33bf2ef-067a-4fef-cbf3-c115e04eaa3a"
      },
      "execution_count": null,
      "outputs": [
        {
          "output_type": "execute_result",
          "data": {
            "text/plain": [
              "KNeighborsClassifier(n_neighbors=6)"
            ],
            "text/html": [
              "<style>#sk-container-id-4 {color: black;background-color: white;}#sk-container-id-4 pre{padding: 0;}#sk-container-id-4 div.sk-toggleable {background-color: white;}#sk-container-id-4 label.sk-toggleable__label {cursor: pointer;display: block;width: 100%;margin-bottom: 0;padding: 0.3em;box-sizing: border-box;text-align: center;}#sk-container-id-4 label.sk-toggleable__label-arrow:before {content: \"▸\";float: left;margin-right: 0.25em;color: #696969;}#sk-container-id-4 label.sk-toggleable__label-arrow:hover:before {color: black;}#sk-container-id-4 div.sk-estimator:hover label.sk-toggleable__label-arrow:before {color: black;}#sk-container-id-4 div.sk-toggleable__content {max-height: 0;max-width: 0;overflow: hidden;text-align: left;background-color: #f0f8ff;}#sk-container-id-4 div.sk-toggleable__content pre {margin: 0.2em;color: black;border-radius: 0.25em;background-color: #f0f8ff;}#sk-container-id-4 input.sk-toggleable__control:checked~div.sk-toggleable__content {max-height: 200px;max-width: 100%;overflow: auto;}#sk-container-id-4 input.sk-toggleable__control:checked~label.sk-toggleable__label-arrow:before {content: \"▾\";}#sk-container-id-4 div.sk-estimator input.sk-toggleable__control:checked~label.sk-toggleable__label {background-color: #d4ebff;}#sk-container-id-4 div.sk-label input.sk-toggleable__control:checked~label.sk-toggleable__label {background-color: #d4ebff;}#sk-container-id-4 input.sk-hidden--visually {border: 0;clip: rect(1px 1px 1px 1px);clip: rect(1px, 1px, 1px, 1px);height: 1px;margin: -1px;overflow: hidden;padding: 0;position: absolute;width: 1px;}#sk-container-id-4 div.sk-estimator {font-family: monospace;background-color: #f0f8ff;border: 1px dotted black;border-radius: 0.25em;box-sizing: border-box;margin-bottom: 0.5em;}#sk-container-id-4 div.sk-estimator:hover {background-color: #d4ebff;}#sk-container-id-4 div.sk-parallel-item::after {content: \"\";width: 100%;border-bottom: 1px solid gray;flex-grow: 1;}#sk-container-id-4 div.sk-label:hover label.sk-toggleable__label {background-color: #d4ebff;}#sk-container-id-4 div.sk-serial::before {content: \"\";position: absolute;border-left: 1px solid gray;box-sizing: border-box;top: 0;bottom: 0;left: 50%;z-index: 0;}#sk-container-id-4 div.sk-serial {display: flex;flex-direction: column;align-items: center;background-color: white;padding-right: 0.2em;padding-left: 0.2em;position: relative;}#sk-container-id-4 div.sk-item {position: relative;z-index: 1;}#sk-container-id-4 div.sk-parallel {display: flex;align-items: stretch;justify-content: center;background-color: white;position: relative;}#sk-container-id-4 div.sk-item::before, #sk-container-id-4 div.sk-parallel-item::before {content: \"\";position: absolute;border-left: 1px solid gray;box-sizing: border-box;top: 0;bottom: 0;left: 50%;z-index: -1;}#sk-container-id-4 div.sk-parallel-item {display: flex;flex-direction: column;z-index: 1;position: relative;background-color: white;}#sk-container-id-4 div.sk-parallel-item:first-child::after {align-self: flex-end;width: 50%;}#sk-container-id-4 div.sk-parallel-item:last-child::after {align-self: flex-start;width: 50%;}#sk-container-id-4 div.sk-parallel-item:only-child::after {width: 0;}#sk-container-id-4 div.sk-dashed-wrapped {border: 1px dashed gray;margin: 0 0.4em 0.5em 0.4em;box-sizing: border-box;padding-bottom: 0.4em;background-color: white;}#sk-container-id-4 div.sk-label label {font-family: monospace;font-weight: bold;display: inline-block;line-height: 1.2em;}#sk-container-id-4 div.sk-label-container {text-align: center;}#sk-container-id-4 div.sk-container {/* jupyter's `normalize.less` sets `[hidden] { display: none; }` but bootstrap.min.css set `[hidden] { display: none !important; }` so we also need the `!important` here to be able to override the default hidden behavior on the sphinx rendered scikit-learn.org. See: https://github.com/scikit-learn/scikit-learn/issues/21755 */display: inline-block !important;position: relative;}#sk-container-id-4 div.sk-text-repr-fallback {display: none;}</style><div id=\"sk-container-id-4\" class=\"sk-top-container\"><div class=\"sk-text-repr-fallback\"><pre>KNeighborsClassifier(n_neighbors=6)</pre><b>In a Jupyter environment, please rerun this cell to show the HTML representation or trust the notebook. <br />On GitHub, the HTML representation is unable to render, please try loading this page with nbviewer.org.</b></div><div class=\"sk-container\" hidden><div class=\"sk-item\"><div class=\"sk-estimator sk-toggleable\"><input class=\"sk-toggleable__control sk-hidden--visually\" id=\"sk-estimator-id-4\" type=\"checkbox\" checked><label for=\"sk-estimator-id-4\" class=\"sk-toggleable__label sk-toggleable__label-arrow\">KNeighborsClassifier</label><div class=\"sk-toggleable__content\"><pre>KNeighborsClassifier(n_neighbors=6)</pre></div></div></div></div></div>"
            ]
          },
          "metadata": {},
          "execution_count": 45
        }
      ]
    },
    {
      "cell_type": "code",
      "source": [
        "y_pred_KNN = KNN.predict(X_test)\n",
        "print(classification_report(y_test,y_pred_KNN))"
      ],
      "metadata": {
        "colab": {
          "base_uri": "https://localhost:8080/"
        },
        "id": "miglQ-nKY0q2",
        "outputId": "941175d0-a2cb-483e-9f24-ed97e407f92c"
      },
      "execution_count": null,
      "outputs": [
        {
          "output_type": "stream",
          "name": "stdout",
          "text": [
            "              precision    recall  f1-score   support\n",
            "\n",
            "           B       0.70      1.00      0.82         7\n",
            "           O       1.00      0.87      0.93        23\n",
            "\n",
            "    accuracy                           0.90        30\n",
            "   macro avg       0.85      0.93      0.88        30\n",
            "weighted avg       0.93      0.90      0.91        30\n",
            "\n"
          ]
        }
      ]
    },
    {
      "cell_type": "code",
      "source": [
        "disp = ConfusionMatrixDisplay.from_estimator(\n",
        "        KNN,\n",
        "        X_test,\n",
        "        y_test,\n",
        "        cmap=plt.cm.Blues\n",
        "    )\n",
        "disp.ax_.set_title('Matriz de Confusión de Clases KNN')\n",
        "#print('title')\n",
        "#print(disp.confusion_matrix)\n",
        "plt.show()"
      ],
      "metadata": {
        "colab": {
          "base_uri": "https://localhost:8080/",
          "height": 472
        },
        "id": "CkwR3cbjZCB2",
        "outputId": "f3d34a0c-85a3-4363-e35d-5caf5bd35b72"
      },
      "execution_count": null,
      "outputs": [
        {
          "output_type": "display_data",
          "data": {
            "text/plain": [
              "<Figure size 640x480 with 2 Axes>"
            ],
            "image/png": "[encoded data removed]"
          },
          "metadata": {}
        }
      ]
    },
    {
      "cell_type": "markdown",
      "source": [
        "Al igual que en el algoritmo anterior, este tuvo un error pero interesantemente la clasificación errónea fue distinta."
      ],
      "metadata": {
        "id": "2UH6JIxGZGhU"
      }
    },
    {
      "cell_type": "code",
      "source": [
        "# Realizar validación cruzada LOO\n",
        "resultados_KNN = cross_val_score(KNN, X_train, y_train, cv=loo)\n",
        "\n",
        "# Imprimir los resultados de cada iteración\n",
        "print(\"Resultados de cada iteración:\", resultados_KNN)\n",
        "\n",
        "# Calcular y mostrar el rendimiento promedio\n",
        "print(\"Rendimiento promedio:\", resultados_KNN.mean())"
      ],
      "metadata": {
        "colab": {
          "base_uri": "https://localhost:8080/"
        },
        "id": "Vu4qUEN-dy_R",
        "outputId": "2b9c6572-bd20-4f1d-fa4d-b5126221f89f"
      },
      "execution_count": null,
      "outputs": [
        {
          "output_type": "stream",
          "name": "stdout",
          "text": [
            "Resultados de cada iteración: [1. 1. 1. 1. 1. 1. 1. 1. 1. 1. 1. 1. 1. 1. 1. 1. 1. 1. 1. 1. 1. 1. 1. 1.\n",
            " 1. 1. 1. 1. 1. 1. 1. 1. 0. 1. 1. 1. 1. 1. 1. 1. 1. 0. 1. 0. 0. 1. 1. 1.\n",
            " 1. 0. 1. 1. 1. 1. 1. 1. 1. 1. 1. 1. 1. 1. 1. 1. 1. 1. 1. 1. 1. 1. 1. 1.\n",
            " 1. 1. 1. 1. 1. 1. 1. 0. 1. 1. 1. 1. 1. 1. 1. 1. 1. 1. 1. 1. 1. 1. 1. 0.\n",
            " 1. 1. 1. 1. 1. 1. 1. 1. 1. 1. 1. 0. 1. 1. 1. 1. 1. 1. 1. 0. 1. 1. 1. 1.\n",
            " 1. 1. 0. 1. 1. 1. 1. 1. 1. 1. 1. 1. 1. 1. 1. 1. 1. 1. 1. 1. 1. 1. 1. 1.\n",
            " 1. 1. 1. 1. 1. 1. 1. 1. 1. 1. 1. 1. 1. 1. 1. 1. 1. 1. 1. 1. 0. 1. 1. 0.\n",
            " 0. 1.]\n",
            "Rendimiento promedio: 0.9235294117647059\n"
          ]
        }
      ]
    },
    {
      "cell_type": "markdown",
      "source": [
        "# Conclusión\n",
        "\n",
        "Podemos observar con este primer análisis es suficiente para elegir o construir un buen algoritmo de clasificación. Podemos utilizar SVC como primer opción sin ningún problema, esto debido a las pocas características útiles y suficientes para obtener buenos resultados."
      ],
      "metadata": {
        "id": "il66GjaYjV1a"
      }
    }
  ]
}